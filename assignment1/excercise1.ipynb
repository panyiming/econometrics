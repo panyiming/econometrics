{
 "cells": [
  {
   "cell_type": "code",
   "execution_count": 65,
   "metadata": {},
   "outputs": [],
   "source": [
    "import os\n",
    "import numpy as np\n",
    "import pandas as pd\n",
    "import matplotlib.pyplot as plt\n",
    "from scipy import stats\n",
    "\n",
    "\n",
    "def OLS(X, Y):\n",
    "    X_T = np.transpose(X)\n",
    "    Betas = np.dot(np.dot(np.matrix(np.dot(X_T, X)).I, X_T), Y)\n",
    "    Betas = np.array(Betas)\n",
    "    return Betas\n",
    "\n",
    "\n",
    "def Predict(X, Betas):\n",
    "    Y_predict = np.dot(X, Betas)\n",
    "    return Y_predict\n",
    "\n",
    "\n",
    "def add_ones(X):\n",
    "    ones = np.ones((X.shape[0], 1))\n",
    "    X = np.hstack((ones, X))\n",
    "    return X\n",
    "\n",
    "    \n",
    "def T_test(Betas, X, Y, Y_pre, N, K, col_names):\n",
    "    Betas_interval = []\n",
    "    beta_num = Betas.shape[0]\n",
    "    U = Y - Y_pre\n",
    "    S_sq = np.dot(U.transpose(), U)[0][0] / (N-K-1)\n",
    "    SKK = np.matrix(np.dot(X.transpose(), X)).I\n",
    "    for j in range(beta_num):\n",
    "        Skk = SKK[j, j]\n",
    "        Beta_i = Betas[j, 0]\n",
    "        t_value = Beta_i/(Skk*S_sq)**0.5\n",
    "        std = (Skk*S_sq)**0.5\n",
    "        low = Beta_i-1.97*std\n",
    "        up = Beta_i+1.97*std\n",
    "        if Beta_i>low and Beta_i<up:\n",
    "            IN_interval = 1\n",
    "        else:\n",
    "            IN_interval = 0\n",
    "        PR = 2*(1- stats.t.cdf(abs(t_value), N-beta_num))\n",
    "        ls_tmp = [Beta_i, t_value, PR, low, up, IN_interval]\n",
    "        Betas_interval.append(ls_tmp)\n",
    "        \n",
    "    # transform into dataframe\n",
    "    numpy_data = np.array(Betas_interval)\n",
    "    df2 = pd.DataFrame(data=numpy_data, index=col_names, \n",
    "        columns=[\"beta\", \"t-value\", \"Pr(>|t|)\", \"low_bound\", 'up_boud', 'in'])\n",
    "    return numpy_data, df2\n",
    "    \n",
    "\n",
    "def R_suqare(Y_predict, Y):\n",
    "    Y_mean = np.mean(Y)\n",
    "    RSS = np.sum((Y_predict-Y)**2)\n",
    "    TSS = np.sum((Y-Y_mean)**2)\n",
    "    return 1- RSS/TSS\n",
    "\n",
    "\n",
    "def Ftest(Betas, Y_predict, Y, K, N):\n",
    "    ESS = np.sum((Y_predict-Y)**2)\n",
    "    RSS = np.sum((Y_predict-np.mean(Y))**2)\n",
    "    F = RSS/K/(ESS/(N-K-1))\n",
    "    P_v = 2*(1- stats.f.cdf(F, K, N-K-1))\n",
    "    return F, P_v\n",
    "\n",
    "\n",
    "def ridge_reg(X, Y, lam=0.1):\n",
    "    X_T = np.transpose(X)\n",
    "    weights_num = X.shape[1]\n",
    "    Betas = np.dot(np.dot(np.matrix(np.dot(X_T, X)+lam*np.identity(weights_num)).I, X_T), Y)\n",
    "    Betas = np.array(Betas)\n",
    "    return Betas"
   ]
  },
  {
   "cell_type": "markdown",
   "metadata": {},
   "source": [
    "# 1 read data"
   ]
  },
  {
   "cell_type": "code",
   "execution_count": 173,
   "metadata": {},
   "outputs": [
    {
     "data": {
      "text/html": [
       "<div>\n",
       "<style scoped>\n",
       "    .dataframe tbody tr th:only-of-type {\n",
       "        vertical-align: middle;\n",
       "    }\n",
       "\n",
       "    .dataframe tbody tr th {\n",
       "        vertical-align: top;\n",
       "    }\n",
       "\n",
       "    .dataframe thead th {\n",
       "        text-align: right;\n",
       "    }\n",
       "</style>\n",
       "<table border=\"1\" class=\"dataframe\">\n",
       "  <thead>\n",
       "    <tr style=\"text-align: right;\">\n",
       "      <th></th>\n",
       "      <th>CC</th>\n",
       "      <th>HP</th>\n",
       "      <th>Year</th>\n",
       "      <th>Kilometers</th>\n",
       "      <th>Gas_1/ Diesel_0</th>\n",
       "      <th>ABS</th>\n",
       "      <th>ABD</th>\n",
       "      <th>CD</th>\n",
       "      <th>AW</th>\n",
       "      <th>A_C</th>\n",
       "      <th>MP</th>\n",
       "      <th>Car_Price</th>\n",
       "    </tr>\n",
       "  </thead>\n",
       "  <tbody>\n",
       "    <tr>\n",
       "      <th>0</th>\n",
       "      <td>1600</td>\n",
       "      <td>105</td>\n",
       "      <td>1995</td>\n",
       "      <td>160000</td>\n",
       "      <td>1</td>\n",
       "      <td>1</td>\n",
       "      <td>1</td>\n",
       "      <td>1</td>\n",
       "      <td>1</td>\n",
       "      <td>1</td>\n",
       "      <td>1.0</td>\n",
       "      <td>8414.17</td>\n",
       "    </tr>\n",
       "    <tr>\n",
       "      <th>1</th>\n",
       "      <td>1896</td>\n",
       "      <td>136</td>\n",
       "      <td>1995</td>\n",
       "      <td>130000</td>\n",
       "      <td>1</td>\n",
       "      <td>1</td>\n",
       "      <td>1</td>\n",
       "      <td>1</td>\n",
       "      <td>0</td>\n",
       "      <td>0</td>\n",
       "      <td>1.0</td>\n",
       "      <td>12000.00</td>\n",
       "    </tr>\n",
       "    <tr>\n",
       "      <th>2</th>\n",
       "      <td>1800</td>\n",
       "      <td>140</td>\n",
       "      <td>1993</td>\n",
       "      <td>112000</td>\n",
       "      <td>1</td>\n",
       "      <td>1</td>\n",
       "      <td>1</td>\n",
       "      <td>1</td>\n",
       "      <td>1</td>\n",
       "      <td>0</td>\n",
       "      <td>0.0</td>\n",
       "      <td>8000.00</td>\n",
       "    </tr>\n",
       "    <tr>\n",
       "      <th>3</th>\n",
       "      <td>1900</td>\n",
       "      <td>140</td>\n",
       "      <td>1998</td>\n",
       "      <td>60000</td>\n",
       "      <td>1</td>\n",
       "      <td>1</td>\n",
       "      <td>1</td>\n",
       "      <td>1</td>\n",
       "      <td>1</td>\n",
       "      <td>1</td>\n",
       "      <td>1.0</td>\n",
       "      <td>12621.25</td>\n",
       "    </tr>\n",
       "    <tr>\n",
       "      <th>4</th>\n",
       "      <td>2000</td>\n",
       "      <td>150</td>\n",
       "      <td>1992</td>\n",
       "      <td>114000</td>\n",
       "      <td>1</td>\n",
       "      <td>1</td>\n",
       "      <td>0</td>\n",
       "      <td>0</td>\n",
       "      <td>0</td>\n",
       "      <td>0</td>\n",
       "      <td>1.0</td>\n",
       "      <td>7900.00</td>\n",
       "    </tr>\n",
       "    <tr>\n",
       "      <th>...</th>\n",
       "      <td>...</td>\n",
       "      <td>...</td>\n",
       "      <td>...</td>\n",
       "      <td>...</td>\n",
       "      <td>...</td>\n",
       "      <td>...</td>\n",
       "      <td>...</td>\n",
       "      <td>...</td>\n",
       "      <td>...</td>\n",
       "      <td>...</td>\n",
       "      <td>...</td>\n",
       "      <td>...</td>\n",
       "    </tr>\n",
       "    <tr>\n",
       "      <th>69</th>\n",
       "      <td>1800</td>\n",
       "      <td>140</td>\n",
       "      <td>1992</td>\n",
       "      <td>135000</td>\n",
       "      <td>1</td>\n",
       "      <td>1</td>\n",
       "      <td>1</td>\n",
       "      <td>1</td>\n",
       "      <td>1</td>\n",
       "      <td>0</td>\n",
       "      <td>0.0</td>\n",
       "      <td>9320.00</td>\n",
       "    </tr>\n",
       "    <tr>\n",
       "      <th>70</th>\n",
       "      <td>2000</td>\n",
       "      <td>136</td>\n",
       "      <td>1999</td>\n",
       "      <td>62000</td>\n",
       "      <td>0</td>\n",
       "      <td>1</td>\n",
       "      <td>1</td>\n",
       "      <td>0</td>\n",
       "      <td>1</td>\n",
       "      <td>0</td>\n",
       "      <td>1.0</td>\n",
       "      <td>19750.00</td>\n",
       "    </tr>\n",
       "    <tr>\n",
       "      <th>71</th>\n",
       "      <td>1895</td>\n",
       "      <td>105</td>\n",
       "      <td>2000</td>\n",
       "      <td>65000</td>\n",
       "      <td>1</td>\n",
       "      <td>1</td>\n",
       "      <td>1</td>\n",
       "      <td>1</td>\n",
       "      <td>1</td>\n",
       "      <td>1</td>\n",
       "      <td>1.0</td>\n",
       "      <td>16000.00</td>\n",
       "    </tr>\n",
       "    <tr>\n",
       "      <th>72</th>\n",
       "      <td>2500</td>\n",
       "      <td>193</td>\n",
       "      <td>1992</td>\n",
       "      <td>230000</td>\n",
       "      <td>1</td>\n",
       "      <td>1</td>\n",
       "      <td>0</td>\n",
       "      <td>1</td>\n",
       "      <td>1</td>\n",
       "      <td>1</td>\n",
       "      <td>1.0</td>\n",
       "      <td>9990.00</td>\n",
       "    </tr>\n",
       "    <tr>\n",
       "      <th>73</th>\n",
       "      <td>2500</td>\n",
       "      <td>143</td>\n",
       "      <td>1995</td>\n",
       "      <td>203000</td>\n",
       "      <td>0</td>\n",
       "      <td>1</td>\n",
       "      <td>1</td>\n",
       "      <td>1</td>\n",
       "      <td>1</td>\n",
       "      <td>0</td>\n",
       "      <td>1.0</td>\n",
       "      <td>11900.00</td>\n",
       "    </tr>\n",
       "  </tbody>\n",
       "</table>\n",
       "<p>74 rows × 12 columns</p>\n",
       "</div>"
      ],
      "text/plain": [
       "      CC   HP  Year  Kilometers  Gas_1/ Diesel_0  ABS  ABD  CD  AW  A_C   MP  \\\n",
       "0   1600  105  1995      160000                1    1    1   1   1    1  1.0   \n",
       "1   1896  136  1995      130000                1    1    1   1   0    0  1.0   \n",
       "2   1800  140  1993      112000                1    1    1   1   1    0  0.0   \n",
       "3   1900  140  1998       60000                1    1    1   1   1    1  1.0   \n",
       "4   2000  150  1992      114000                1    1    0   0   0    0  1.0   \n",
       "..   ...  ...   ...         ...              ...  ...  ...  ..  ..  ...  ...   \n",
       "69  1800  140  1992      135000                1    1    1   1   1    0  0.0   \n",
       "70  2000  136  1999       62000                0    1    1   0   1    0  1.0   \n",
       "71  1895  105  2000       65000                1    1    1   1   1    1  1.0   \n",
       "72  2500  193  1992      230000                1    1    0   1   1    1  1.0   \n",
       "73  2500  143  1995      203000                0    1    1   1   1    0  1.0   \n",
       "\n",
       "    Car_Price  \n",
       "0     8414.17  \n",
       "1    12000.00  \n",
       "2     8000.00  \n",
       "3    12621.25  \n",
       "4     7900.00  \n",
       "..        ...  \n",
       "69    9320.00  \n",
       "70   19750.00  \n",
       "71   16000.00  \n",
       "72    9990.00  \n",
       "73   11900.00  \n",
       "\n",
       "[74 rows x 12 columns]"
      ]
     },
     "execution_count": 173,
     "metadata": {},
     "output_type": "execute_result"
    }
   ],
   "source": [
    "data = pd.read_csv('./data_problemset1/Car_Prices.csv')\n",
    "table = data.to_numpy()\n",
    "data"
   ]
  },
  {
   "cell_type": "markdown",
   "metadata": {},
   "source": [
    "# 2 a"
   ]
  },
  {
   "cell_type": "markdown",
   "metadata": {},
   "source": [
    "### simple regression"
   ]
  },
  {
   "cell_type": "code",
   "execution_count": 174,
   "metadata": {},
   "outputs": [
    {
     "name": "stdout",
     "output_type": "stream",
     "text": [
      "0.39967\n",
      "47.934236225474436 3.0587348209820675e-09\n",
      "0.39967100082547646\n"
     ]
    }
   ],
   "source": [
    "Xa = table[:, 3]\n",
    "N = Xa.shape[0]\n",
    "Xa = np.reshape(Xa, (Xa.shape[0], 1))\n",
    "Xa = add_ones(Xa)\n",
    "Ya = table[:, 11]\n",
    "Ya = np.reshape(Ya, (Ya.shape[0], 1))\n",
    "beta_a = OLS(Xa, Ya)\n",
    "Y_prea = Predict(Xa, beta_a)\n",
    "K = 1\n",
    "col_names = ['Intercept', 'Kilometers']\n",
    "numpy_data, Ttesta = T_test(beta_a, Xa, Ya, Y_prea, N, K, col_names)\n",
    "R2a = R_suqare(Y_prea, Ya)\n",
    "print(round(R2a, 5))\n",
    "F, F_v = Ftest(beta_a, Y_prea, Ya, K, N)\n",
    "print(F, F_v)\n",
    "Ttesta\n",
    "R2a = R_suqare(Y_prea, Ya)\n",
    "print(R2a)"
   ]
  },
  {
   "cell_type": "code",
   "execution_count": 175,
   "metadata": {},
   "outputs": [
    {
     "data": {
      "text/html": [
       "<div>\n",
       "<style scoped>\n",
       "    .dataframe tbody tr th:only-of-type {\n",
       "        vertical-align: middle;\n",
       "    }\n",
       "\n",
       "    .dataframe tbody tr th {\n",
       "        vertical-align: top;\n",
       "    }\n",
       "\n",
       "    .dataframe thead th {\n",
       "        text-align: right;\n",
       "    }\n",
       "</style>\n",
       "<table border=\"1\" class=\"dataframe\">\n",
       "  <thead>\n",
       "    <tr style=\"text-align: right;\">\n",
       "      <th></th>\n",
       "      <th>beta</th>\n",
       "      <th>t-value</th>\n",
       "      <th>Pr(&gt;|t|)</th>\n",
       "      <th>low_bound</th>\n",
       "      <th>up_boud</th>\n",
       "      <th>in</th>\n",
       "    </tr>\n",
       "  </thead>\n",
       "  <tbody>\n",
       "    <tr>\n",
       "      <th>Intercept</th>\n",
       "      <td>25001.265755</td>\n",
       "      <td>15.528837</td>\n",
       "      <td>0.000000e+00</td>\n",
       "      <td>21829.586185</td>\n",
       "      <td>28172.945325</td>\n",
       "      <td>1.0</td>\n",
       "    </tr>\n",
       "    <tr>\n",
       "      <th>Kilometers</th>\n",
       "      <td>-0.099622</td>\n",
       "      <td>-6.923456</td>\n",
       "      <td>1.529367e-09</td>\n",
       "      <td>-0.127968</td>\n",
       "      <td>-0.071275</td>\n",
       "      <td>1.0</td>\n",
       "    </tr>\n",
       "  </tbody>\n",
       "</table>\n",
       "</div>"
      ],
      "text/plain": [
       "                    beta    t-value      Pr(>|t|)     low_bound       up_boud  \\\n",
       "Intercept   25001.265755  15.528837  0.000000e+00  21829.586185  28172.945325   \n",
       "Kilometers     -0.099622  -6.923456  1.529367e-09     -0.127968     -0.071275   \n",
       "\n",
       "             in  \n",
       "Intercept   1.0  \n",
       "Kilometers  1.0  "
      ]
     },
     "execution_count": 175,
     "metadata": {},
     "output_type": "execute_result"
    }
   ],
   "source": [
    "Ttesta"
   ]
  },
  {
   "cell_type": "code",
   "execution_count": 70,
   "metadata": {},
   "outputs": [
    {
     "data": {
      "image/png": "[encoded data removed]",
      "text/plain": [
       "<Figure size 432x288 with 1 Axes>"
      ]
     },
     "metadata": {
      "needs_background": "light"
     },
     "output_type": "display_data"
    },
    {
     "data": {
      "image/png": "[encoded data removed]",
      "text/plain": [
       "<Figure size 432x288 with 1 Axes>"
      ]
     },
     "metadata": {
      "needs_background": "light"
     },
     "output_type": "display_data"
    }
   ],
   "source": [
    "plt.scatter(table[:, 3], Ya - Y_prea, alpha=0.6, color='r', s=2)  \n",
    "plt.show()\n",
    "plt.scatter(table[:, 3], Ya, alpha=0.6, color='r', s=2)\n",
    "plt.show()"
   ]
  },
  {
   "cell_type": "markdown",
   "metadata": {},
   "source": [
    "### nonlinearity test"
   ]
  },
  {
   "cell_type": "code",
   "execution_count": 139,
   "metadata": {},
   "outputs": [
    {
     "name": "stdout",
     "output_type": "stream",
     "text": [
      "0.42884\n"
     ]
    },
    {
     "data": {
      "text/html": [
       "<div>\n",
       "<style scoped>\n",
       "    .dataframe tbody tr th:only-of-type {\n",
       "        vertical-align: middle;\n",
       "    }\n",
       "\n",
       "    .dataframe tbody tr th {\n",
       "        vertical-align: top;\n",
       "    }\n",
       "\n",
       "    .dataframe thead th {\n",
       "        text-align: right;\n",
       "    }\n",
       "</style>\n",
       "<table border=\"1\" class=\"dataframe\">\n",
       "  <thead>\n",
       "    <tr style=\"text-align: right;\">\n",
       "      <th></th>\n",
       "      <th>beta</th>\n",
       "      <th>t-value</th>\n",
       "      <th>Pr(&gt;|t|)</th>\n",
       "      <th>low_bound</th>\n",
       "      <th>up_boud</th>\n",
       "      <th>in</th>\n",
       "    </tr>\n",
       "  </thead>\n",
       "  <tbody>\n",
       "    <tr>\n",
       "      <th>Intercept</th>\n",
       "      <td>2.871171e+04</td>\n",
       "      <td>11.441685</td>\n",
       "      <td>0.000000</td>\n",
       "      <td>2.376820e+04</td>\n",
       "      <td>3.365522e+04</td>\n",
       "      <td>1.0</td>\n",
       "    </tr>\n",
       "    <tr>\n",
       "      <th>Kilometers^1</th>\n",
       "      <td>-1.871940e-01</td>\n",
       "      <td>-3.891119</td>\n",
       "      <td>0.000223</td>\n",
       "      <td>-2.819667e-01</td>\n",
       "      <td>-9.242119e-02</td>\n",
       "      <td>1.0</td>\n",
       "    </tr>\n",
       "    <tr>\n",
       "      <th>Kilometers^2</th>\n",
       "      <td>4.004251e-07</td>\n",
       "      <td>1.904364</td>\n",
       "      <td>0.060915</td>\n",
       "      <td>-1.380109e-08</td>\n",
       "      <td>8.146513e-07</td>\n",
       "      <td>1.0</td>\n",
       "    </tr>\n",
       "  </tbody>\n",
       "</table>\n",
       "</div>"
      ],
      "text/plain": [
       "                      beta    t-value  Pr(>|t|)     low_bound       up_boud  \\\n",
       "Intercept     2.871171e+04  11.441685  0.000000  2.376820e+04  3.365522e+04   \n",
       "Kilometers^1 -1.871940e-01  -3.891119  0.000223 -2.819667e-01 -9.242119e-02   \n",
       "Kilometers^2  4.004251e-07   1.904364  0.060915 -1.380109e-08  8.146513e-07   \n",
       "\n",
       "               in  \n",
       "Intercept     1.0  \n",
       "Kilometers^1  1.0  \n",
       "Kilometers^2  1.0  "
      ]
     },
     "execution_count": 139,
     "metadata": {},
     "output_type": "execute_result"
    }
   ],
   "source": [
    "Kio = table[:, 3]**2\n",
    "Kio2 = np.reshape(Kio, (Kio.shape[0], 1))\n",
    "Xa1 = np.hstack((Xa, Kio2))\n",
    "beta_a1 = OLS(Xa1, Ya)\n",
    "Y_prea1 = Predict(Xa1, beta_a1)\n",
    "col_names = ['Intercept',  'Kilometers^1', 'Kilometers^2']\n",
    "K = 2\n",
    "numpy_data, Ttesta = T_test(beta_a1, Xa1, Ya, Y_prea1, N, K, col_names)\n",
    "R2a = R_suqare(Y_prea1, Ya)\n",
    "print(round(R2a, 5))\n",
    "#F, F_v = Ftest(beta_a, Y_prea, Ya, K, N)\n",
    "#print(F, F_v)\n",
    "Ttesta"
   ]
  },
  {
   "cell_type": "code",
   "execution_count": 130,
   "metadata": {},
   "outputs": [
    {
     "data": {
      "text/plain": [
       "array([[ 2.87117131e+04],\n",
       "       [-1.87193954e-01],\n",
       "       [ 4.00425125e-07]])"
      ]
     },
     "execution_count": 130,
     "metadata": {},
     "output_type": "execute_result"
    }
   ],
   "source": [
    "beta_a1"
   ]
  },
  {
   "cell_type": "code",
   "execution_count": 114,
   "metadata": {},
   "outputs": [
    {
     "data": {
      "image/png": "[encoded data removed]",
      "text/plain": [
       "<Figure size 432x288 with 1 Axes>"
      ]
     },
     "metadata": {
      "needs_background": "light"
     },
     "output_type": "display_data"
    },
    {
     "data": {
      "image/png": "[encoded data removed]",
      "text/plain": [
       "<Figure size 432x288 with 1 Axes>"
      ]
     },
     "metadata": {
      "needs_background": "light"
     },
     "output_type": "display_data"
    }
   ],
   "source": [
    "test_x = [i+4000 for i in range(220000)]\n",
    "ys = []\n",
    "for x_i in test_x:\n",
    "    y_i = beta_a1[0]+ beta_a1[1]*x_i + beta_a1[2]*x_i**2\n",
    "    ys.append(y_i)\n",
    "plt.scatter(table[:, 3], Ya, alpha=0.6, color='r', s=2)\n",
    "plt.scatter(test_x, ys, alpha=0.6, color='b', s=2)\n",
    "plt.show()\n",
    "plt.scatter(table[:, 3], Y_prea1 - Ya, alpha=0.6, color='r', s=2)\n",
    "plt.show()"
   ]
  },
  {
   "cell_type": "markdown",
   "metadata": {},
   "source": [
    "# 3d"
   ]
  },
  {
   "cell_type": "markdown",
   "metadata": {},
   "source": [
    "## correlation matrix"
   ]
  },
  {
   "cell_type": "code",
   "execution_count": 177,
   "metadata": {},
   "outputs": [
    {
     "data": {
      "text/plain": [
       "CC                0.241198\n",
       "HP                0.372381\n",
       "Year              0.767791\n",
       "Kilometers       -0.632195\n",
       "Gas_1_Diesel_0   -0.292497\n",
       "ABS               0.394046\n",
       "ABD               0.556508\n",
       "CD                0.174620\n",
       "AW                0.056937\n",
       "A_C               0.133255\n",
       "MP                0.357452\n",
       "Car_Price         1.000000\n",
       "Name: Car_Price, dtype: float64"
      ]
     },
     "execution_count": 177,
     "metadata": {},
     "output_type": "execute_result"
    }
   ],
   "source": [
    "data = pd.read_csv('./data_problemset1/Car_Prices.csv')\n",
    "data.rename(columns={'Gas_1/ Diesel_0':'Gas_1_Diesel_0'},inplace=True)\n",
    "corrdf = data.corr()\n",
    "corrdf['Car_Price']"
   ]
  },
  {
   "cell_type": "code",
   "execution_count": 178,
   "metadata": {},
   "outputs": [
    {
     "data": {
      "text/html": [
       "<div>\n",
       "<style scoped>\n",
       "    .dataframe tbody tr th:only-of-type {\n",
       "        vertical-align: middle;\n",
       "    }\n",
       "\n",
       "    .dataframe tbody tr th {\n",
       "        vertical-align: top;\n",
       "    }\n",
       "\n",
       "    .dataframe thead th {\n",
       "        text-align: right;\n",
       "    }\n",
       "</style>\n",
       "<table border=\"1\" class=\"dataframe\">\n",
       "  <thead>\n",
       "    <tr style=\"text-align: right;\">\n",
       "      <th></th>\n",
       "      <th>CC</th>\n",
       "      <th>HP</th>\n",
       "      <th>Year</th>\n",
       "      <th>Kilometers</th>\n",
       "      <th>Gas_1_Diesel_0</th>\n",
       "      <th>ABS</th>\n",
       "      <th>ABD</th>\n",
       "      <th>CD</th>\n",
       "      <th>AW</th>\n",
       "      <th>A_C</th>\n",
       "      <th>MP</th>\n",
       "      <th>Car_Price</th>\n",
       "      <th>Kilometers2</th>\n",
       "    </tr>\n",
       "  </thead>\n",
       "  <tbody>\n",
       "    <tr>\n",
       "      <th>0</th>\n",
       "      <td>1600</td>\n",
       "      <td>105</td>\n",
       "      <td>1995</td>\n",
       "      <td>160000</td>\n",
       "      <td>1</td>\n",
       "      <td>1</td>\n",
       "      <td>1</td>\n",
       "      <td>1</td>\n",
       "      <td>1</td>\n",
       "      <td>1</td>\n",
       "      <td>1.0</td>\n",
       "      <td>8414.17</td>\n",
       "      <td>25600000000</td>\n",
       "    </tr>\n",
       "    <tr>\n",
       "      <th>1</th>\n",
       "      <td>1896</td>\n",
       "      <td>136</td>\n",
       "      <td>1995</td>\n",
       "      <td>130000</td>\n",
       "      <td>1</td>\n",
       "      <td>1</td>\n",
       "      <td>1</td>\n",
       "      <td>1</td>\n",
       "      <td>0</td>\n",
       "      <td>0</td>\n",
       "      <td>1.0</td>\n",
       "      <td>12000.00</td>\n",
       "      <td>16900000000</td>\n",
       "    </tr>\n",
       "    <tr>\n",
       "      <th>2</th>\n",
       "      <td>1800</td>\n",
       "      <td>140</td>\n",
       "      <td>1993</td>\n",
       "      <td>112000</td>\n",
       "      <td>1</td>\n",
       "      <td>1</td>\n",
       "      <td>1</td>\n",
       "      <td>1</td>\n",
       "      <td>1</td>\n",
       "      <td>0</td>\n",
       "      <td>0.0</td>\n",
       "      <td>8000.00</td>\n",
       "      <td>12544000000</td>\n",
       "    </tr>\n",
       "    <tr>\n",
       "      <th>3</th>\n",
       "      <td>1900</td>\n",
       "      <td>140</td>\n",
       "      <td>1998</td>\n",
       "      <td>60000</td>\n",
       "      <td>1</td>\n",
       "      <td>1</td>\n",
       "      <td>1</td>\n",
       "      <td>1</td>\n",
       "      <td>1</td>\n",
       "      <td>1</td>\n",
       "      <td>1.0</td>\n",
       "      <td>12621.25</td>\n",
       "      <td>3600000000</td>\n",
       "    </tr>\n",
       "    <tr>\n",
       "      <th>4</th>\n",
       "      <td>2000</td>\n",
       "      <td>150</td>\n",
       "      <td>1992</td>\n",
       "      <td>114000</td>\n",
       "      <td>1</td>\n",
       "      <td>1</td>\n",
       "      <td>0</td>\n",
       "      <td>0</td>\n",
       "      <td>0</td>\n",
       "      <td>0</td>\n",
       "      <td>1.0</td>\n",
       "      <td>7900.00</td>\n",
       "      <td>12996000000</td>\n",
       "    </tr>\n",
       "    <tr>\n",
       "      <th>...</th>\n",
       "      <td>...</td>\n",
       "      <td>...</td>\n",
       "      <td>...</td>\n",
       "      <td>...</td>\n",
       "      <td>...</td>\n",
       "      <td>...</td>\n",
       "      <td>...</td>\n",
       "      <td>...</td>\n",
       "      <td>...</td>\n",
       "      <td>...</td>\n",
       "      <td>...</td>\n",
       "      <td>...</td>\n",
       "      <td>...</td>\n",
       "    </tr>\n",
       "    <tr>\n",
       "      <th>69</th>\n",
       "      <td>1800</td>\n",
       "      <td>140</td>\n",
       "      <td>1992</td>\n",
       "      <td>135000</td>\n",
       "      <td>1</td>\n",
       "      <td>1</td>\n",
       "      <td>1</td>\n",
       "      <td>1</td>\n",
       "      <td>1</td>\n",
       "      <td>0</td>\n",
       "      <td>0.0</td>\n",
       "      <td>9320.00</td>\n",
       "      <td>18225000000</td>\n",
       "    </tr>\n",
       "    <tr>\n",
       "      <th>70</th>\n",
       "      <td>2000</td>\n",
       "      <td>136</td>\n",
       "      <td>1999</td>\n",
       "      <td>62000</td>\n",
       "      <td>0</td>\n",
       "      <td>1</td>\n",
       "      <td>1</td>\n",
       "      <td>0</td>\n",
       "      <td>1</td>\n",
       "      <td>0</td>\n",
       "      <td>1.0</td>\n",
       "      <td>19750.00</td>\n",
       "      <td>3844000000</td>\n",
       "    </tr>\n",
       "    <tr>\n",
       "      <th>71</th>\n",
       "      <td>1895</td>\n",
       "      <td>105</td>\n",
       "      <td>2000</td>\n",
       "      <td>65000</td>\n",
       "      <td>1</td>\n",
       "      <td>1</td>\n",
       "      <td>1</td>\n",
       "      <td>1</td>\n",
       "      <td>1</td>\n",
       "      <td>1</td>\n",
       "      <td>1.0</td>\n",
       "      <td>16000.00</td>\n",
       "      <td>4225000000</td>\n",
       "    </tr>\n",
       "    <tr>\n",
       "      <th>72</th>\n",
       "      <td>2500</td>\n",
       "      <td>193</td>\n",
       "      <td>1992</td>\n",
       "      <td>230000</td>\n",
       "      <td>1</td>\n",
       "      <td>1</td>\n",
       "      <td>0</td>\n",
       "      <td>1</td>\n",
       "      <td>1</td>\n",
       "      <td>1</td>\n",
       "      <td>1.0</td>\n",
       "      <td>9990.00</td>\n",
       "      <td>52900000000</td>\n",
       "    </tr>\n",
       "    <tr>\n",
       "      <th>73</th>\n",
       "      <td>2500</td>\n",
       "      <td>143</td>\n",
       "      <td>1995</td>\n",
       "      <td>203000</td>\n",
       "      <td>0</td>\n",
       "      <td>1</td>\n",
       "      <td>1</td>\n",
       "      <td>1</td>\n",
       "      <td>1</td>\n",
       "      <td>0</td>\n",
       "      <td>1.0</td>\n",
       "      <td>11900.00</td>\n",
       "      <td>41209000000</td>\n",
       "    </tr>\n",
       "  </tbody>\n",
       "</table>\n",
       "<p>74 rows × 13 columns</p>\n",
       "</div>"
      ],
      "text/plain": [
       "      CC   HP  Year  Kilometers  Gas_1_Diesel_0  ABS  ABD  CD  AW  A_C   MP  \\\n",
       "0   1600  105  1995      160000               1    1    1   1   1    1  1.0   \n",
       "1   1896  136  1995      130000               1    1    1   1   0    0  1.0   \n",
       "2   1800  140  1993      112000               1    1    1   1   1    0  0.0   \n",
       "3   1900  140  1998       60000               1    1    1   1   1    1  1.0   \n",
       "4   2000  150  1992      114000               1    1    0   0   0    0  1.0   \n",
       "..   ...  ...   ...         ...             ...  ...  ...  ..  ..  ...  ...   \n",
       "69  1800  140  1992      135000               1    1    1   1   1    0  0.0   \n",
       "70  2000  136  1999       62000               0    1    1   0   1    0  1.0   \n",
       "71  1895  105  2000       65000               1    1    1   1   1    1  1.0   \n",
       "72  2500  193  1992      230000               1    1    0   1   1    1  1.0   \n",
       "73  2500  143  1995      203000               0    1    1   1   1    0  1.0   \n",
       "\n",
       "    Car_Price  Kilometers2  \n",
       "0     8414.17  25600000000  \n",
       "1    12000.00  16900000000  \n",
       "2     8000.00  12544000000  \n",
       "3    12621.25   3600000000  \n",
       "4     7900.00  12996000000  \n",
       "..        ...          ...  \n",
       "69    9320.00  18225000000  \n",
       "70   19750.00   3844000000  \n",
       "71   16000.00   4225000000  \n",
       "72    9990.00  52900000000  \n",
       "73   11900.00  41209000000  \n",
       "\n",
       "[74 rows x 13 columns]"
      ]
     },
     "execution_count": 178,
     "metadata": {},
     "output_type": "execute_result"
    }
   ],
   "source": [
    "data['Kilometers2'] = data['Kilometers']**2\n",
    "data"
   ]
  },
  {
   "cell_type": "code",
   "execution_count": 145,
   "metadata": {},
   "outputs": [
    {
     "name": "stdout",
     "output_type": "stream",
     "text": [
      "                            OLS Regression Results                            \n",
      "==============================================================================\n",
      "Dep. Variable:              Car_Price   R-squared:                       0.897\n",
      "Model:                            OLS   Adj. R-squared:                  0.876\n",
      "Method:                 Least Squares   F-statistic:                     44.16\n",
      "Date:                Sun, 01 Nov 2020   Prob (F-statistic):           1.48e-23\n",
      "Time:                        14:54:00   Log-Likelihood:                -631.88\n",
      "No. Observations:                  68   AIC:                             1288.\n",
      "Df Residuals:                      56   BIC:                             1314.\n",
      "Df Model:                          11                                         \n",
      "Covariance Type:            nonrobust                                         \n",
      "==================================================================================\n",
      "                     coef    std err          t      P>|t|      [0.025      0.975]\n",
      "----------------------------------------------------------------------------------\n",
      "Intercept      -1.788e+06   3.15e+05     -5.677      0.000   -2.42e+06   -1.16e+06\n",
      "CC                -0.9337      1.076     -0.868      0.389      -3.088       1.221\n",
      "HP                90.3142     13.257      6.813      0.000      63.757     116.871\n",
      "Year             901.1970    157.602      5.718      0.000     585.481    1216.913\n",
      "Kilometers        -0.1268      0.026     -4.833      0.000      -0.179      -0.074\n",
      "Kilometers2     3.984e-07   1.08e-07      3.700      0.000    1.83e-07    6.14e-07\n",
      "Gas_1_Diesel_0 -3863.8734    946.791     -4.081      0.000   -5760.524   -1967.222\n",
      "ABS             -782.7394   1411.776     -0.554      0.581   -3610.866    2045.387\n",
      "ABD             2323.4062   1157.750      2.007      0.050       4.155    4642.658\n",
      "CD               -78.1361    859.833     -0.091      0.928   -1800.588    1644.316\n",
      "A_C             1217.6561    807.200      1.508      0.137    -399.361    2834.673\n",
      "MP              1601.4477   1140.214      1.405      0.166    -682.675    3885.570\n",
      "==============================================================================\n",
      "Omnibus:                        1.382   Durbin-Watson:                   1.535\n",
      "Prob(Omnibus):                  0.501   Jarque-Bera (JB):                0.734\n",
      "Skew:                           0.153   Prob(JB):                        0.693\n",
      "Kurtosis:                       3.407   Cond. No.                     1.52e+13\n",
      "==============================================================================\n",
      "\n",
      "Notes:\n",
      "[1] Standard Errors assume that the covariance matrix of the errors is correctly specified.\n",
      "[2] The condition number is large, 1.52e+13. This might indicate that there are\n",
      "strong multicollinearity or other numerical problems.\n"
     ]
    }
   ],
   "source": [
    "from statsmodels.formula.api import ols\n",
    "formula = 'Car_Price ~ CC+HP+Year+Kilometers+Kilometers2+Gas_1_Diesel_0+ABS+ABD+CD+A_C+MP'\n",
    "results0 = ols(formula, data).fit()\n",
    "print(results0.summary())"
   ]
  },
  {
   "cell_type": "code",
   "execution_count": 179,
   "metadata": {},
   "outputs": [
    {
     "name": "stdout",
     "output_type": "stream",
     "text": [
      "                            OLS Regression Results                            \n",
      "==============================================================================\n",
      "Dep. Variable:              Car_Price   R-squared:                       0.859\n",
      "Model:                            OLS   Adj. R-squared:                  0.851\n",
      "Method:                 Least Squares   F-statistic:                     105.2\n",
      "Date:                Tue, 03 Nov 2020   Prob (F-statistic):           1.32e-28\n",
      "Time:                        16:51:41   Log-Likelihood:                -697.80\n",
      "No. Observations:                  74   AIC:                             1406.\n",
      "Df Residuals:                      69   BIC:                             1417.\n",
      "Df Model:                           4                                         \n",
      "Covariance Type:            nonrobust                                         \n",
      "==================================================================================\n",
      "                     coef    std err          t      P>|t|      [0.025      0.975]\n",
      "----------------------------------------------------------------------------------\n",
      "Intercept       -2.38e+06   2.53e+05     -9.418      0.000   -2.88e+06   -1.88e+06\n",
      "HP                75.1464      6.934     10.837      0.000      61.313      88.980\n",
      "Year            1197.4242    126.263      9.484      0.000     945.537    1449.311\n",
      "Kilometers        -0.0372      0.009     -3.922      0.000      -0.056      -0.018\n",
      "Gas_1_Diesel_0 -3845.1592    908.826     -4.231      0.000   -5658.218   -2032.100\n",
      "==============================================================================\n",
      "Omnibus:                       12.292   Durbin-Watson:                   1.750\n",
      "Prob(Omnibus):                  0.002   Jarque-Bera (JB):               15.034\n",
      "Skew:                           0.749   Prob(JB):                     0.000544\n",
      "Kurtosis:                       4.623   Cond. No.                     7.79e+07\n",
      "==============================================================================\n",
      "\n",
      "Notes:\n",
      "[1] Standard Errors assume that the covariance matrix of the errors is correctly specified.\n",
      "[2] The condition number is large, 7.79e+07. This might indicate that there are\n",
      "strong multicollinearity or other numerical problems.\n"
     ]
    }
   ],
   "source": [
    "from statsmodels.formula.api import ols\n",
    "formula = 'Car_Price ~ HP+Year+Kilometers+Gas_1_Diesel_0'\n",
    "results = ols(formula, data).fit()\n",
    "print(results.summary())"
   ]
  },
  {
   "cell_type": "code",
   "execution_count": 142,
   "metadata": {},
   "outputs": [
    {
     "data": {
      "text/plain": [
       "4.0042512471437037e-07"
      ]
     },
     "execution_count": 142,
     "metadata": {},
     "output_type": "execute_result"
    }
   ],
   "source": [
    "beta_a1[2][0]"
   ]
  },
  {
   "cell_type": "code",
   "execution_count": 143,
   "metadata": {},
   "outputs": [
    {
     "name": "stdout",
     "output_type": "stream",
     "text": [
      "<F test: F=array([[49.35962862]]), p=2.6053548808919783e-21, df_denom=68, df_num=5>\n"
     ]
    },
    {
     "name": "stderr",
     "output_type": "stream",
     "text": [
      "/usr/local/lib/python3.7/site-packages/statsmodels/base/model.py:1834: ValueWarning: covariance of constraints does not have full rank. The number of constraints is 6, but rank is 5\n",
      "  'rank is %d' % (J, J_), ValueWarning)\n"
     ]
    }
   ],
   "source": [
    "hypotheses = '(Intercept = {}), (HP = {}), (Year = {}), (Kilometers = {}), \\\n",
    "              (Kilometers2 = {}), (Gas_1_Diesel_0 = {})'.format(\n",
    "              beta_a1[0][0],0,0,beta_a1[1][0],beta_a1[2][0],0)\n",
    "f_test = results.f_test(hypotheses)\n",
    "print(f_test)"
   ]
  },
  {
   "cell_type": "markdown",
   "metadata": {},
   "source": [
    "# e"
   ]
  },
  {
   "cell_type": "code",
   "execution_count": 144,
   "metadata": {},
   "outputs": [
    {
     "name": "stdout",
     "output_type": "stream",
     "text": [
      "<F test: F=array([[0.10270328]]), p=0.7495921392917642, df_denom=68, df_num=1>\n"
     ]
    }
   ],
   "source": [
    "hypotheses1 = ' (Year = {})'.format(1200)\n",
    "f_test1 = results.f_test(hypotheses1)\n",
    "print(f_test1)"
   ]
  },
  {
   "cell_type": "code",
   "execution_count": 146,
   "metadata": {},
   "outputs": [
    {
     "name": "stdout",
     "output_type": "stream",
     "text": [
      "<F test: F=array([[0.59590929]]), p=0.5545176555998494, df_denom=56, df_num=2>\n"
     ]
    }
   ],
   "source": [
    "hypotheses2 = '(CC = {}),(ABS = {})'.format(0,0)\n",
    "f_test2 = results0.f_test(hypotheses2)\n",
    "print(f_test2)"
   ]
  },
  {
   "cell_type": "code",
   "execution_count": 147,
   "metadata": {},
   "outputs": [
    {
     "name": "stdout",
     "output_type": "stream",
     "text": [
      "<F test: F=array([[8.24144435]]), p=0.005769024526534222, df_denom=56, df_num=1>\n"
     ]
    }
   ],
   "source": [
    "hypotheses3 = 'CD = Gas_1_Diesel_0'\n",
    "f_test3 = results0.f_test(hypotheses3)\n",
    "print(f_test3)"
   ]
  },
  {
   "cell_type": "code",
   "execution_count": 180,
   "metadata": {},
   "outputs": [
    {
     "name": "stdout",
     "output_type": "stream",
     "text": [
      "<F test: F=array([[39.50618746]]), p=2.554695777125571e-08, df_denom=69, df_num=1>\n"
     ]
    }
   ],
   "source": [
    "hypotheses4 = '-4*Year = 20000*Kilometers'\n",
    "f_test3 = results.f_test(hypotheses4)\n",
    "print(f_test3)"
   ]
  },
  {
   "cell_type": "code",
   "execution_count": 186,
   "metadata": {},
   "outputs": [
    {
     "data": {
      "text/plain": [
       "(47.32635327874932,\n",
       " 4.092434445336051e-06,\n",
       " 9.019225293079671,\n",
       " 1.2508760461592233e-09)"
      ]
     },
     "execution_count": 186,
     "metadata": {},
     "output_type": "execute_result"
    }
   ],
   "source": [
    "from statsmodels.stats.diagnostic import het_breuschpagan\n",
    "from statsmodels.stats.diagnostic import het_white\n",
    "white_test5 = het_white(results.resid**2,  results.model.exog)\n",
    "white_test5"
   ]
  },
  {
   "cell_type": "code",
   "execution_count": 184,
   "metadata": {},
   "outputs": [
    {
     "data": {
      "text/plain": [
       "(3.0350620870010916, nan, 3.1220985865260014, 0.08141703514224242)"
      ]
     },
     "execution_count": 184,
     "metadata": {},
     "output_type": "execute_result"
    }
   ],
   "source": [
    "bp_test61 = het_breuschpagan(results.resid**2, np.reshape(results.model.exog[:, 2], (74, 1)))\n",
    "bp_test61"
   ]
  },
  {
   "cell_type": "code",
   "execution_count": 185,
   "metadata": {},
   "outputs": [
    {
     "data": {
      "text/plain": [
       "(4.4522398088808846, nan, 4.673241886656862, 0.03391483195355937)"
      ]
     },
     "execution_count": 185,
     "metadata": {},
     "output_type": "execute_result"
    }
   ],
   "source": [
    "bp_test62 = het_breuschpagan(results.resid**2, np.reshape(results.model.exog[:, 1], (74, 1)))\n",
    "bp_test62"
   ]
  },
  {
   "cell_type": "markdown",
   "metadata": {},
   "source": [
    "# f"
   ]
  },
  {
   "cell_type": "code",
   "execution_count": 171,
   "metadata": {},
   "outputs": [
    {
     "name": "stdout",
     "output_type": "stream",
     "text": [
      "                            OLS Regression Results                            \n",
      "==============================================================================\n",
      "Dep. Variable:              Car_Price   R-squared:                       0.877\n",
      "Model:                            OLS   Adj. R-squared:                  0.868\n",
      "Method:                 Least Squares   F-statistic:                     40.81\n",
      "Date:                Sun, 01 Nov 2020   Prob (F-statistic):           2.12e-17\n",
      "Time:                        15:36:13   Log-Likelihood:                -692.90\n",
      "No. Observations:                  74   AIC:                             1398.\n",
      "Df Residuals:                      68   BIC:                             1412.\n",
      "Df Model:                           5                                         \n",
      "Covariance Type:                  HC3                                         \n",
      "==================================================================================\n",
      "                     coef    std err          z      P>|z|      [0.025      0.975]\n",
      "----------------------------------------------------------------------------------\n",
      "Intercept      -2.305e+06   3.39e+05     -6.795      0.000   -2.97e+06   -1.64e+06\n",
      "HP                76.3387     10.129      7.537      0.000      56.486      96.191\n",
      "Year            1161.6750    169.307      6.861      0.000     829.839    1493.511\n",
      "Kilometers        -0.1088      0.040     -2.710      0.007      -0.188      -0.030\n",
      "Kilometers2     3.163e-07   1.43e-07      2.220      0.026     3.7e-08    5.96e-07\n",
      "Gas_1_Diesel_0 -3545.2198    825.856     -4.293      0.000   -5163.867   -1926.573\n",
      "==============================================================================\n",
      "Omnibus:                        5.439   Durbin-Watson:                   1.820\n",
      "Prob(Omnibus):                  0.066   Jarque-Bera (JB):                4.806\n",
      "Skew:                           0.465   Prob(JB):                       0.0904\n",
      "Kurtosis:                       3.833   Cond. No.                     1.20e+13\n",
      "==============================================================================\n",
      "\n",
      "Notes:\n",
      "[1] Standard Errors are heteroscedasticity robust (HC3)\n",
      "[2] The condition number is large, 1.2e+13. This might indicate that there are\n",
      "strong multicollinearity or other numerical problems.\n"
     ]
    },
    {
     "name": "stderr",
     "output_type": "stream",
     "text": [
      "/usr/local/lib/python3.7/site-packages/statsmodels/base/model.py:1834: ValueWarning: covariance of constraints does not have full rank. The number of constraints is 5, but rank is 4\n",
      "  'rank is %d' % (J, J_), ValueWarning)\n"
     ]
    }
   ],
   "source": [
    "from statsmodels.formula.api import ols\n",
    "formula = 'Car_Price ~ HP+Year+Kilometers+Kilometers2+Gas_1_Diesel_0'\n",
    "results_f = ols(formula, data).fit(cov_type='HC3')\n",
    "print(results_f.summary())"
   ]
  },
  {
   "cell_type": "code",
   "execution_count": null,
   "metadata": {},
   "outputs": [],
   "source": []
  }
 ],
 "metadata": {
  "kernelspec": {
   "display_name": "Python 3",
   "language": "python",
   "name": "python3"
  },
  "language_info": {
   "codemirror_mode": {
    "name": "ipython",
    "version": 3
   },
   "file_extension": ".py",
   "mimetype": "text/x-python",
   "name": "python",
   "nbconvert_exporter": "python",
   "pygments_lexer": "ipython3",
   "version": "3.7.6"
  }
 },
 "nbformat": 4,
 "nbformat_minor": 4
}
