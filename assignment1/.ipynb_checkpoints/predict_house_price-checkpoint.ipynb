{
 "cells": [
  {
   "cell_type": "markdown",
   "metadata": {},
   "source": [
    "# house price pridiction"
   ]
  },
  {
   "cell_type": "code",
   "execution_count": 267,
   "metadata": {},
   "outputs": [],
   "source": [
    "import os\n",
    "import numpy as np\n",
    "import pandas as pd\n",
    "from scipy import stats\n",
    "\n",
    "\n",
    "def OLS(X, Y):\n",
    "    X_T = np.transpose(X)\n",
    "    Betas = np.dot(np.dot(np.matrix(np.dot(X_T, X)).I, X_T), Y)\n",
    "    Betas = np.array(Betas)\n",
    "    return Betas\n",
    "\n",
    "\n",
    "def Predict(X, Betas):\n",
    "    Y_predict = np.dot(X, Betas)\n",
    "    return Y_predict\n",
    "\n",
    "\n",
    "def T_Beta_i(Skk, S_sq, T_up):\n",
    "    up = T_up * (Skk*S_sq)**0.5\n",
    "    low = -up\n",
    "    return low, up\n",
    "\n",
    "\n",
    "def T_test(Betas, SKK, S_sq, T_up):\n",
    "    Betas_interval = []\n",
    "    beta_num = Betas.shape[0]\n",
    "    for j in range(beta_num):\n",
    "        Skk = SKK[j, j]\n",
    "        Beta_i = Betas[j, 0]\n",
    "        t_value = Beta_i/(Skk*S_sq)**0.5\n",
    "        std = (Skk*S_sq)**0.5\n",
    "        low, up = T_Beta_i(Skk, S_sq, T_up)\n",
    "        if Beta_i>low and Beta_i<up:\n",
    "            IN_interval = 1\n",
    "        else:\n",
    "            IN_interval = 0\n",
    "        PR = 2*(1- stats.t.cdf(abs(t_value), 250-12-1))\n",
    "        ls_tmp = [Beta_i, t_value, PR, low, up, IN_interval]\n",
    "        Betas_interval.append(ls_tmp)\n",
    "    return Betas_interval\n",
    "    \n",
    "\n",
    "def R_suqare(Y_predict, Y):\n",
    "    Y_mean = np.mean(Y)\n",
    "    RSS = np.sum((Y_predict-Y_mean)**2)\n",
    "    TSS = np.sum((Y-Y_mean)**2)\n",
    "    return RSS/TSS"
   ]
  },
  {
   "cell_type": "markdown",
   "metadata": {},
   "source": [
    "# 1 read  and analyse data"
   ]
  },
  {
   "cell_type": "code",
   "execution_count": 142,
   "metadata": {},
   "outputs": [],
   "source": [
    "house_price = pd.read_csv('./data_problemset1/Housing_Prices.csv')\n",
    "house_price[\"City Zone\"] = pd.factorize(house_price[\"City Zone\"])[0].astype(np.uint16)\n",
    "col_name = house_price.columns.tolist()\n",
    "col_name.insert(col_name.index(\"City Zone\"),\"Ones\")\n",
    "house_price = house_price.reindex(columns=col_name)\n",
    "house_price[\"Ones\"] = pd.Series(np.ones(250).tolist())\n",
    "house_train = house_price.to_numpy()"
   ]
  },
  {
   "cell_type": "code",
   "execution_count": 246,
   "metadata": {},
   "outputs": [],
   "source": [
    "house_price.to_csv('./data_problemset1/Housing_Prices1.csv')"
   ]
  },
  {
   "cell_type": "code",
   "execution_count": 159,
   "metadata": {},
   "outputs": [
    {
     "data": {
      "text/html": [
       "<div>\n",
       "<style scoped>\n",
       "    .dataframe tbody tr th:only-of-type {\n",
       "        vertical-align: middle;\n",
       "    }\n",
       "\n",
       "    .dataframe tbody tr th {\n",
       "        vertical-align: top;\n",
       "    }\n",
       "\n",
       "    .dataframe thead th {\n",
       "        text-align: right;\n",
       "    }\n",
       "</style>\n",
       "<table border=\"1\" class=\"dataframe\">\n",
       "  <thead>\n",
       "    <tr style=\"text-align: right;\">\n",
       "      <th></th>\n",
       "      <th>row1</th>\n",
       "      <th>s</th>\n",
       "    </tr>\n",
       "  </thead>\n",
       "  <tbody>\n",
       "    <tr>\n",
       "      <th>Price [euros]</th>\n",
       "      <td>2.038670e+10</td>\n",
       "      <td>2.038670e+10</td>\n",
       "    </tr>\n",
       "    <tr>\n",
       "      <th>m^2</th>\n",
       "      <td>4.120062e+06</td>\n",
       "      <td>4.120062e+06</td>\n",
       "    </tr>\n",
       "    <tr>\n",
       "      <th>City Zone</th>\n",
       "      <td>-9.329734e+04</td>\n",
       "      <td>9.329734e+04</td>\n",
       "    </tr>\n",
       "    <tr>\n",
       "      <th>Rooms</th>\n",
       "      <td>6.551742e+04</td>\n",
       "      <td>6.551742e+04</td>\n",
       "    </tr>\n",
       "    <tr>\n",
       "      <th>Bathrooms</th>\n",
       "      <td>5.697582e+04</td>\n",
       "      <td>5.697582e+04</td>\n",
       "    </tr>\n",
       "    <tr>\n",
       "      <th>Parking</th>\n",
       "      <td>1.613328e+04</td>\n",
       "      <td>1.613328e+04</td>\n",
       "    </tr>\n",
       "    <tr>\n",
       "      <th>Terrasse</th>\n",
       "      <td>1.246627e+04</td>\n",
       "      <td>1.246627e+04</td>\n",
       "    </tr>\n",
       "    <tr>\n",
       "      <th>Kitchen</th>\n",
       "      <td>1.036318e+04</td>\n",
       "      <td>1.036318e+04</td>\n",
       "    </tr>\n",
       "    <tr>\n",
       "      <th>\"Atico\"</th>\n",
       "      <td>4.614008e+03</td>\n",
       "      <td>4.614008e+03</td>\n",
       "    </tr>\n",
       "    <tr>\n",
       "      <th>Yard</th>\n",
       "      <td>3.461030e+03</td>\n",
       "      <td>3.461030e+03</td>\n",
       "    </tr>\n",
       "    <tr>\n",
       "      <th>Elevator</th>\n",
       "      <td>1.827839e+03</td>\n",
       "      <td>1.827839e+03</td>\n",
       "    </tr>\n",
       "    <tr>\n",
       "      <th>House Style</th>\n",
       "      <td>-1.600946e+02</td>\n",
       "      <td>1.600946e+02</td>\n",
       "    </tr>\n",
       "    <tr>\n",
       "      <th>Ones</th>\n",
       "      <td>0.000000e+00</td>\n",
       "      <td>0.000000e+00</td>\n",
       "    </tr>\n",
       "  </tbody>\n",
       "</table>\n",
       "</div>"
      ],
      "text/plain": [
       "                       row1             s\n",
       "Price [euros]  2.038670e+10  2.038670e+10\n",
       "m^2            4.120062e+06  4.120062e+06\n",
       "City Zone     -9.329734e+04  9.329734e+04\n",
       "Rooms          6.551742e+04  6.551742e+04\n",
       "Bathrooms      5.697582e+04  5.697582e+04\n",
       "Parking        1.613328e+04  1.613328e+04\n",
       "Terrasse       1.246627e+04  1.246627e+04\n",
       "Kitchen        1.036318e+04  1.036318e+04\n",
       "\"Atico\"        4.614008e+03  4.614008e+03\n",
       "Yard           3.461030e+03  3.461030e+03\n",
       "Elevator       1.827839e+03  1.827839e+03\n",
       "House Style   -1.600946e+02  1.600946e+02\n",
       "Ones           0.000000e+00  0.000000e+00"
      ]
     },
     "execution_count": 159,
     "metadata": {},
     "output_type": "execute_result"
    }
   ],
   "source": [
    "cov = np.cov(house_train.transpose())\n",
    "cov1 = cov[12, :]\n",
    "df = pd.DataFrame(cov1, index=house_price.columns, columns=[\"row1\"])\n",
    "df['s'] = df['row1'].abs()\n",
    "df1 = df.sort_values(axis=0, by='s', ascending=False)\n",
    "df1"
   ]
  },
  {
   "cell_type": "markdown",
   "metadata": {},
   "source": [
    "## 2 get OLS model"
   ]
  },
  {
   "cell_type": "code",
   "execution_count": 176,
   "metadata": {},
   "outputs": [],
   "source": [
    "X = house_train[:, 0:12]\n",
    "Y = house_train[:, 12]\n",
    "Y = np.reshape(Y, (Y.shape[0], 1))\n",
    "Betas = OLS(X, Y)\n",
    "Y_pre = Predict(X, Betas)"
   ]
  },
  {
   "cell_type": "markdown",
   "metadata": {},
   "source": [
    "## 3 model evaluation"
   ]
  },
  {
   "cell_type": "code",
   "execution_count": 271,
   "metadata": {},
   "outputs": [
    {
     "name": "stdout",
     "output_type": "stream",
     "text": [
      "0.8296404805827557\n"
     ]
    }
   ],
   "source": [
    "R2 = R_suqare(Y_pre, Y)\n",
    "print(R2)"
   ]
  },
  {
   "cell_type": "code",
   "execution_count": 186,
   "metadata": {},
   "outputs": [],
   "source": [
    "N = 250\n",
    "K = 11\n",
    "P = 0.05\n",
    "U = Y - Y_pre\n",
    "S_sq = np.dot(U.transpose(), U)[0][0] / (N-K-1)\n",
    "SKK = np.matrix(np.dot(X.transpose(), X)).I\n",
    "f_95_up = T.ppf(1-P/2, N-K-1)\n",
    "f_95_low = -f_95_up"
   ]
  },
  {
   "cell_type": "code",
   "execution_count": 268,
   "metadata": {},
   "outputs": [
    {
     "data": {
      "text/html": [
       "<div>\n",
       "<style scoped>\n",
       "    .dataframe tbody tr th:only-of-type {\n",
       "        vertical-align: middle;\n",
       "    }\n",
       "\n",
       "    .dataframe tbody tr th {\n",
       "        vertical-align: top;\n",
       "    }\n",
       "\n",
       "    .dataframe thead th {\n",
       "        text-align: right;\n",
       "    }\n",
       "</style>\n",
       "<table border=\"1\" class=\"dataframe\">\n",
       "  <thead>\n",
       "    <tr style=\"text-align: right;\">\n",
       "      <th></th>\n",
       "      <th>beta</th>\n",
       "      <th>t-value</th>\n",
       "      <th>Pr(&gt;|t|)</th>\n",
       "      <th>low_bound</th>\n",
       "      <th>up_boud</th>\n",
       "      <th>in</th>\n",
       "    </tr>\n",
       "  </thead>\n",
       "  <tbody>\n",
       "    <tr>\n",
       "      <th>Ones</th>\n",
       "      <td>-20324.927720</td>\n",
       "      <td>-1.364074</td>\n",
       "      <td>1.738384e-01</td>\n",
       "      <td>-29353.057913</td>\n",
       "      <td>29353.057913</td>\n",
       "      <td>1.0</td>\n",
       "    </tr>\n",
       "    <tr>\n",
       "      <th>City Zone</th>\n",
       "      <td>-8545.351212</td>\n",
       "      <td>-5.794101</td>\n",
       "      <td>2.175190e-08</td>\n",
       "      <td>-2905.400725</td>\n",
       "      <td>2905.400725</td>\n",
       "      <td>0.0</td>\n",
       "    </tr>\n",
       "    <tr>\n",
       "      <th>m^2</th>\n",
       "      <td>3303.535538</td>\n",
       "      <td>17.151911</td>\n",
       "      <td>0.000000e+00</td>\n",
       "      <td>-379.427342</td>\n",
       "      <td>379.427342</td>\n",
       "      <td>0.0</td>\n",
       "    </tr>\n",
       "    <tr>\n",
       "      <th>Rooms</th>\n",
       "      <td>-9401.335439</td>\n",
       "      <td>-1.728309</td>\n",
       "      <td>8.523536e-02</td>\n",
       "      <td>-10715.943163</td>\n",
       "      <td>10715.943163</td>\n",
       "      <td>1.0</td>\n",
       "    </tr>\n",
       "    <tr>\n",
       "      <th>Bathrooms</th>\n",
       "      <td>30244.383089</td>\n",
       "      <td>3.218326</td>\n",
       "      <td>1.469565e-03</td>\n",
       "      <td>-18513.000784</td>\n",
       "      <td>18513.000784</td>\n",
       "      <td>0.0</td>\n",
       "    </tr>\n",
       "    <tr>\n",
       "      <th>Elevator</th>\n",
       "      <td>4753.826983</td>\n",
       "      <td>0.591136</td>\n",
       "      <td>5.549926e-01</td>\n",
       "      <td>-15842.293862</td>\n",
       "      <td>15842.293862</td>\n",
       "      <td>1.0</td>\n",
       "    </tr>\n",
       "    <tr>\n",
       "      <th>\"Atico\"</th>\n",
       "      <td>17709.052227</td>\n",
       "      <td>1.237177</td>\n",
       "      <td>2.172459e-01</td>\n",
       "      <td>-28198.484231</td>\n",
       "      <td>28198.484231</td>\n",
       "      <td>1.0</td>\n",
       "    </tr>\n",
       "    <tr>\n",
       "      <th>Terrasse</th>\n",
       "      <td>2603.893600</td>\n",
       "      <td>0.250269</td>\n",
       "      <td>8.025958e-01</td>\n",
       "      <td>-20496.403911</td>\n",
       "      <td>20496.403911</td>\n",
       "      <td>1.0</td>\n",
       "    </tr>\n",
       "    <tr>\n",
       "      <th>Parking</th>\n",
       "      <td>74776.518143</td>\n",
       "      <td>3.975703</td>\n",
       "      <td>9.321522e-05</td>\n",
       "      <td>-37052.151817</td>\n",
       "      <td>37052.151817</td>\n",
       "      <td>0.0</td>\n",
       "    </tr>\n",
       "    <tr>\n",
       "      <th>Kitchen</th>\n",
       "      <td>-3600.796539</td>\n",
       "      <td>-0.330011</td>\n",
       "      <td>7.416832e-01</td>\n",
       "      <td>-21494.748003</td>\n",
       "      <td>21494.748003</td>\n",
       "      <td>1.0</td>\n",
       "    </tr>\n",
       "    <tr>\n",
       "      <th>House Style</th>\n",
       "      <td>-53230.147063</td>\n",
       "      <td>-2.641091</td>\n",
       "      <td>8.813512e-03</td>\n",
       "      <td>-39704.195960</td>\n",
       "      <td>39704.195960</td>\n",
       "      <td>0.0</td>\n",
       "    </tr>\n",
       "    <tr>\n",
       "      <th>Yard</th>\n",
       "      <td>28286.845283</td>\n",
       "      <td>1.326005</td>\n",
       "      <td>1.861145e-01</td>\n",
       "      <td>-42024.392550</td>\n",
       "      <td>42024.392550</td>\n",
       "      <td>1.0</td>\n",
       "    </tr>\n",
       "  </tbody>\n",
       "</table>\n",
       "</div>"
      ],
      "text/plain": [
       "                     beta    t-value      Pr(>|t|)     low_bound  \\\n",
       "Ones        -20324.927720  -1.364074  1.738384e-01 -29353.057913   \n",
       "City Zone    -8545.351212  -5.794101  2.175190e-08  -2905.400725   \n",
       "m^2           3303.535538  17.151911  0.000000e+00   -379.427342   \n",
       "Rooms        -9401.335439  -1.728309  8.523536e-02 -10715.943163   \n",
       "Bathrooms    30244.383089   3.218326  1.469565e-03 -18513.000784   \n",
       "Elevator      4753.826983   0.591136  5.549926e-01 -15842.293862   \n",
       "\"Atico\"      17709.052227   1.237177  2.172459e-01 -28198.484231   \n",
       "Terrasse      2603.893600   0.250269  8.025958e-01 -20496.403911   \n",
       "Parking      74776.518143   3.975703  9.321522e-05 -37052.151817   \n",
       "Kitchen      -3600.796539  -0.330011  7.416832e-01 -21494.748003   \n",
       "House Style -53230.147063  -2.641091  8.813512e-03 -39704.195960   \n",
       "Yard         28286.845283   1.326005  1.861145e-01 -42024.392550   \n",
       "\n",
       "                  up_boud   in  \n",
       "Ones         29353.057913  1.0  \n",
       "City Zone     2905.400725  0.0  \n",
       "m^2            379.427342  0.0  \n",
       "Rooms        10715.943163  1.0  \n",
       "Bathrooms    18513.000784  0.0  \n",
       "Elevator     15842.293862  1.0  \n",
       "\"Atico\"      28198.484231  1.0  \n",
       "Terrasse     20496.403911  1.0  \n",
       "Parking      37052.151817  0.0  \n",
       "Kitchen      21494.748003  1.0  \n",
       "House Style  39704.195960  0.0  \n",
       "Yard         42024.392550  1.0  "
      ]
     },
     "execution_count": 268,
     "metadata": {},
     "output_type": "execute_result"
    }
   ],
   "source": [
    "sig_intervals = T_test(Betas, SKK, S_sq, f_95_up)\n",
    "numpy_data = np.array(sig_intervals)\n",
    "df2 = pd.DataFrame(data=numpy_data, index=house_price.columns[0:12], \n",
    "        columns=[\"beta\", \"t-value\", \"Pr(>|t|)\", \"low_bound\", 'up_boud', 'in'])\n",
    "df2"
   ]
  },
  {
   "cell_type": "markdown",
   "metadata": {},
   "source": [
    "### 3.1 adjustment"
   ]
  },
  {
   "cell_type": "code",
   "execution_count": 289,
   "metadata": {},
   "outputs": [
    {
     "data": {
      "text/plain": [
       "(array([ 0,  1,  2,  3,  4,  6,  8, 10, 11]),)"
      ]
     },
     "execution_count": 289,
     "metadata": {},
     "output_type": "execute_result"
    }
   ],
   "source": [
    "np.where(numpy_data[:, 2]<=0.30)"
   ]
  },
  {
   "cell_type": "code",
   "execution_count": 292,
   "metadata": {},
   "outputs": [
    {
     "name": "stdout",
     "output_type": "stream",
     "text": [
      "0.8401625524295019\n",
      "0.7471886727133911\n",
      "3514696.8558887006\n"
     ]
    }
   ],
   "source": [
    "## train\n",
    "selected_idx = [0,1,2,3,4,5,6,7,8,9,10,11]\n",
    "X1 = X[0:200, selected_idx]\n",
    "Y = house_train[0:200, 12]\n",
    "Y = np.reshape(Y, (Y.shape[0], 1))\n",
    "Betas1 = OLS(X1, Y)\n",
    "Y_pre1 = Predict(X1, Betas1)\n",
    "R21 = R_suqare(Y_pre1, Y)\n",
    "print(R21)\n",
    "\n",
    "X_test = X[200:250, selected_idx]\n",
    "Y_test = house_train[200:250, 12]\n",
    "## test\n",
    "Y_test_pre = Predict(X_test, Betas1)\n",
    "R2 = R_suqare(Y_test_pre, Y_test)\n",
    "print(R2)\n",
    "U = Y_test - Y_test_pre\n",
    "E = np.dot(U.transpose(), U)[0][0]\n",
    "print(E**0.5)"
   ]
  },
  {
   "cell_type": "markdown",
   "metadata": {},
   "source": [
    "## 4 prediction"
   ]
  },
  {
   "cell_type": "code",
   "execution_count": null,
   "metadata": {},
   "outputs": [],
   "source": [
    "house_price = pd.read_csv('./data_problemset1/Housing_Prices.csv')\n",
    "house_price[\"City Zone\"] = pd.factorize(house_price[\"City Zone\"])[0].astype(np.uint16)\n",
    "col_name = house_price.columns.tolist()\n",
    "col_name.insert(col_name.index(\"City Zone\"),\"Ones\")\n",
    "house_price = house_price.reindex(columns=col_name)\n",
    "house_price[\"Ones\"] = pd.Series(np.ones(250).tolist())\n",
    "house_train = house_price.to_numpy()"
   ]
  }
 ],
 "metadata": {
  "kernelspec": {
   "display_name": "Python 3",
   "language": "python",
   "name": "python3"
  },
  "language_info": {
   "codemirror_mode": {
    "name": "ipython",
    "version": 3
   },
   "file_extension": ".py",
   "mimetype": "text/x-python",
   "name": "python",
   "nbconvert_exporter": "python",
   "pygments_lexer": "ipython3",
   "version": "3.7.6"
  }
 },
 "nbformat": 4,
 "nbformat_minor": 4
}
