{
 "cells": [
  {
   "cell_type": "markdown",
   "metadata": {},
   "source": [
    "# house price pridiction"
   ]
  },
  {
   "cell_type": "code",
   "execution_count": 492,
   "metadata": {},
   "outputs": [],
   "source": [
    "import os\n",
    "import numpy as np\n",
    "import pandas as pd\n",
    "from scipy import stats\n",
    "\n",
    "\n",
    "def OLS(X, Y):\n",
    "    X_T = np.transpose(X)\n",
    "    Betas = np.dot(np.dot(np.matrix(np.dot(X_T, X)).I, X_T), Y)\n",
    "    Betas = np.array(Betas)\n",
    "    return Betas\n",
    "\n",
    "\n",
    "def Predict(X, Betas):\n",
    "    Y_predict = np.dot(X, Betas)\n",
    "    return Y_predict\n",
    "\n",
    "\n",
    "def T_test(Betas, X, Y, Y_pre, N, col_names):\n",
    "    Betas_interval = []\n",
    "    beta_num = Betas.shape[0]\n",
    "    U = Y - Y_pre\n",
    "    S_sq = np.dot(U.transpose(), U)[0][0] / (N-K-1)\n",
    "    SKK = np.matrix(np.dot(X.transpose(), X)).I\n",
    "    for j in range(beta_num):\n",
    "        Skk = SKK[j, j]\n",
    "        Beta_i = Betas[j, 0]\n",
    "        t_value = Beta_i/(Skk*S_sq)**0.5\n",
    "        std = (Skk*S_sq)**0.5\n",
    "        low = Beta_i-1.97*std\n",
    "        up = Beta_i+1.97*std\n",
    "        if Beta_i>low and Beta_i<up:\n",
    "            IN_interval = 1\n",
    "        else:\n",
    "            IN_interval = 0\n",
    "        PR = 2*(1- stats.t.cdf(abs(t_value), N-beta_num))\n",
    "        ls_tmp = [Beta_i, t_value, PR, low, up, IN_interval]\n",
    "        Betas_interval.append(ls_tmp)\n",
    "        \n",
    "    # transform into dataframe\n",
    "    numpy_data = np.array(Betas_interval)\n",
    "    df2 = pd.DataFrame(data=numpy_data, index=col_names, \n",
    "        columns=[\"beta\", \"t-value\", \"Pr(>|t|)\", \"low_bound\", 'up_boud', 'in'])\n",
    "    return numpy_data, df2\n",
    "    \n",
    "\n",
    "def R_suqare(Y_predict, Y):\n",
    "    Y_mean = np.mean(Y)\n",
    "    RSS = np.sum((Y_predict-Y)**2)\n",
    "    TSS = np.sum((Y-Y_mean)**2)\n",
    "    return 1- RSS/TSS\n",
    "\n",
    "\n",
    "def Ftest(Betas, Y_predict, Y, K, N):\n",
    "    ESS = np.sum((Y_predict-Y)**2)\n",
    "    RSS = np.sum((Y_predict-np.mean(Y))**2)\n",
    "    F = RSS/K/(ESS/(N-K-1))\n",
    "    P_v = 2*(1- stats.f.cdf(F, K, N-K-1))\n",
    "    return F, P_v\n",
    "\n",
    "def ridge_reg(X, Y, lam=0.1):\n",
    "    X_T = np.transpose(X)\n",
    "    weights_num = X.shape[1]\n",
    "    Betas = np.dot(np.dot(np.matrix(np.dot(X_T, X)+lam*np.identity(weights_num)).I, X_T), Y)\n",
    "    Betas = np.array(Betas)\n",
    "    return Betas"
   ]
  },
  {
   "cell_type": "markdown",
   "metadata": {},
   "source": [
    "# 1 read  and analyse data"
   ]
  },
  {
   "cell_type": "code",
   "execution_count": 403,
   "metadata": {},
   "outputs": [],
   "source": [
    "house_price = pd.read_csv('./data_problemset1/Housing_Prices.csv')\n",
    "house_price[\"City Zone\"] = pd.factorize(house_price[\"City Zone\"])[0].astype(np.uint16)\n",
    "col_name = house_price.columns.tolist()\n",
    "col_name.insert(col_name.index(\"City Zone\"),\"Ones\")\n",
    "house_price = house_price.reindex(columns=col_name)\n",
    "house_price[\"Ones\"] = pd.Series(np.ones(250).tolist())\n",
    "house_train = house_price.to_numpy()"
   ]
  },
  {
   "cell_type": "code",
   "execution_count": 404,
   "metadata": {},
   "outputs": [
    {
     "data": {
      "text/plain": [
       "Series([], Name: City Zone, dtype: object)"
      ]
     },
     "execution_count": 404,
     "metadata": {},
     "output_type": "execute_result"
    }
   ],
   "source": [
    "h1= pd.read_csv('./data_problemset1/Housing_Prices.csv')\n",
    "h1['City Zone'][house_price['City Zone']==10]"
   ]
  },
  {
   "cell_type": "markdown",
   "metadata": {},
   "source": [
    "0      Ciutat Vella\n",
    "1      Eixample\n",
    "2      Sarria - Sant Gervasi\n",
    "3      Les Corts\n",
    "4      Nou Barris\n",
    "5      Sant Marti\n",
    "6      Sant Andreu\n",
    "7      Horta - Guinardó\n",
    "8      Gràcia\n",
    "9     Sants - Montjuïc"
   ]
  },
  {
   "cell_type": "code",
   "execution_count": 3,
   "metadata": {},
   "outputs": [],
   "source": [
    "house_price.to_csv('./data_problemset1/Housing_Prices1.csv')"
   ]
  },
  {
   "cell_type": "code",
   "execution_count": 405,
   "metadata": {},
   "outputs": [
    {
     "data": {
      "text/html": [
       "<div>\n",
       "<style scoped>\n",
       "    .dataframe tbody tr th:only-of-type {\n",
       "        vertical-align: middle;\n",
       "    }\n",
       "\n",
       "    .dataframe tbody tr th {\n",
       "        vertical-align: top;\n",
       "    }\n",
       "\n",
       "    .dataframe thead th {\n",
       "        text-align: right;\n",
       "    }\n",
       "</style>\n",
       "<table border=\"1\" class=\"dataframe\">\n",
       "  <thead>\n",
       "    <tr style=\"text-align: right;\">\n",
       "      <th></th>\n",
       "      <th>row1</th>\n",
       "      <th>s</th>\n",
       "    </tr>\n",
       "  </thead>\n",
       "  <tbody>\n",
       "    <tr>\n",
       "      <th>Price [euros]</th>\n",
       "      <td>2.038670e+10</td>\n",
       "      <td>2.038670e+10</td>\n",
       "    </tr>\n",
       "    <tr>\n",
       "      <th>m^2</th>\n",
       "      <td>4.120062e+06</td>\n",
       "      <td>4.120062e+06</td>\n",
       "    </tr>\n",
       "    <tr>\n",
       "      <th>City Zone</th>\n",
       "      <td>-9.329734e+04</td>\n",
       "      <td>9.329734e+04</td>\n",
       "    </tr>\n",
       "    <tr>\n",
       "      <th>Rooms</th>\n",
       "      <td>6.551742e+04</td>\n",
       "      <td>6.551742e+04</td>\n",
       "    </tr>\n",
       "    <tr>\n",
       "      <th>Bathrooms</th>\n",
       "      <td>5.697582e+04</td>\n",
       "      <td>5.697582e+04</td>\n",
       "    </tr>\n",
       "    <tr>\n",
       "      <th>Parking</th>\n",
       "      <td>1.613328e+04</td>\n",
       "      <td>1.613328e+04</td>\n",
       "    </tr>\n",
       "    <tr>\n",
       "      <th>Terrasse</th>\n",
       "      <td>1.246627e+04</td>\n",
       "      <td>1.246627e+04</td>\n",
       "    </tr>\n",
       "    <tr>\n",
       "      <th>Kitchen</th>\n",
       "      <td>1.036318e+04</td>\n",
       "      <td>1.036318e+04</td>\n",
       "    </tr>\n",
       "    <tr>\n",
       "      <th>\"Atico\"</th>\n",
       "      <td>4.614008e+03</td>\n",
       "      <td>4.614008e+03</td>\n",
       "    </tr>\n",
       "    <tr>\n",
       "      <th>Yard</th>\n",
       "      <td>3.461030e+03</td>\n",
       "      <td>3.461030e+03</td>\n",
       "    </tr>\n",
       "    <tr>\n",
       "      <th>Elevator</th>\n",
       "      <td>1.827839e+03</td>\n",
       "      <td>1.827839e+03</td>\n",
       "    </tr>\n",
       "    <tr>\n",
       "      <th>House Style</th>\n",
       "      <td>-1.600946e+02</td>\n",
       "      <td>1.600946e+02</td>\n",
       "    </tr>\n",
       "    <tr>\n",
       "      <th>Ones</th>\n",
       "      <td>0.000000e+00</td>\n",
       "      <td>0.000000e+00</td>\n",
       "    </tr>\n",
       "  </tbody>\n",
       "</table>\n",
       "</div>"
      ],
      "text/plain": [
       "                       row1             s\n",
       "Price [euros]  2.038670e+10  2.038670e+10\n",
       "m^2            4.120062e+06  4.120062e+06\n",
       "City Zone     -9.329734e+04  9.329734e+04\n",
       "Rooms          6.551742e+04  6.551742e+04\n",
       "Bathrooms      5.697582e+04  5.697582e+04\n",
       "Parking        1.613328e+04  1.613328e+04\n",
       "Terrasse       1.246627e+04  1.246627e+04\n",
       "Kitchen        1.036318e+04  1.036318e+04\n",
       "\"Atico\"        4.614008e+03  4.614008e+03\n",
       "Yard           3.461030e+03  3.461030e+03\n",
       "Elevator       1.827839e+03  1.827839e+03\n",
       "House Style   -1.600946e+02  1.600946e+02\n",
       "Ones           0.000000e+00  0.000000e+00"
      ]
     },
     "execution_count": 405,
     "metadata": {},
     "output_type": "execute_result"
    }
   ],
   "source": [
    "cov = np.cov(house_train.transpose())\n",
    "cov1 = cov[12, :]\n",
    "df = pd.DataFrame(cov1, index=house_price.columns, columns=[\"row1\"])\n",
    "df['s'] = df['row1'].abs()\n",
    "df1 = df.sort_values(axis=0, by='s', ascending=False)\n",
    "df1"
   ]
  },
  {
   "cell_type": "code",
   "execution_count": 508,
   "metadata": {},
   "outputs": [
    {
     "data": {
      "image/png": "[encoded data removed]",
      "text/plain": [
       "<Figure size 432x288 with 1 Axes>"
      ]
     },
     "metadata": {
      "needs_background": "light"
     },
     "output_type": "display_data"
    }
   ],
   "source": [
    "feet = (house_train[:, 2]).tolist()\n",
    "price = house_train[:, 12].tolist()\n",
    "plt.scatter(feet, price, alpha=0.6, color='b', s=8)  \n",
    "plt.show(price, price)"
   ]
  },
  {
   "cell_type": "markdown",
   "metadata": {},
   "source": [
    "## 2 get OLS model"
   ]
  },
  {
   "cell_type": "code",
   "execution_count": 406,
   "metadata": {},
   "outputs": [],
   "source": [
    "X = house_train[:, 0:12]\n",
    "Y = house_train[:, 12]\n",
    "Y = np.reshape(Y, (Y.shape[0], 1))\n",
    "Betas = OLS(X, Y)\n",
    "Y_pre = Predict(X, Betas)"
   ]
  },
  {
   "cell_type": "markdown",
   "metadata": {},
   "source": [
    "## 3 model evaluation"
   ]
  },
  {
   "cell_type": "markdown",
   "metadata": {},
   "source": [
    "### R^2"
   ]
  },
  {
   "cell_type": "code",
   "execution_count": 162,
   "metadata": {},
   "outputs": [
    {
     "name": "stdout",
     "output_type": "stream",
     "text": [
      "0.829640480582757\n"
     ]
    }
   ],
   "source": [
    "R2 = R_suqare(Y_pre, Y)\n",
    "print(R2)"
   ]
  },
  {
   "cell_type": "markdown",
   "metadata": {},
   "source": [
    "### Ftest"
   ]
  },
  {
   "cell_type": "code",
   "execution_count": 193,
   "metadata": {},
   "outputs": [
    {
     "name": "stdout",
     "output_type": "stream",
     "text": [
      "105.37 2.2204e-16\n"
     ]
    }
   ],
   "source": [
    "F_value, P_value =  Ftest(Betas, Y_pre, Y, N=250, K=11)\n",
    "print(round(F_value, 2), round(P_value, 20))"
   ]
  },
  {
   "cell_type": "markdown",
   "metadata": {},
   "source": [
    "### Ttest and confidence interval"
   ]
  },
  {
   "cell_type": "code",
   "execution_count": 221,
   "metadata": {},
   "outputs": [
    {
     "name": "stdout",
     "output_type": "stream",
     "text": [
      "0.829640480582757 929943.1378056643\n"
     ]
    },
    {
     "data": {
      "text/html": [
       "<div>\n",
       "<style scoped>\n",
       "    .dataframe tbody tr th:only-of-type {\n",
       "        vertical-align: middle;\n",
       "    }\n",
       "\n",
       "    .dataframe tbody tr th {\n",
       "        vertical-align: top;\n",
       "    }\n",
       "\n",
       "    .dataframe thead th {\n",
       "        text-align: right;\n",
       "    }\n",
       "</style>\n",
       "<table border=\"1\" class=\"dataframe\">\n",
       "  <thead>\n",
       "    <tr style=\"text-align: right;\">\n",
       "      <th></th>\n",
       "      <th>beta</th>\n",
       "      <th>t-value</th>\n",
       "      <th>Pr(&gt;|t|)</th>\n",
       "      <th>low_bound</th>\n",
       "      <th>up_boud</th>\n",
       "      <th>in</th>\n",
       "    </tr>\n",
       "  </thead>\n",
       "  <tbody>\n",
       "    <tr>\n",
       "      <th>Ones</th>\n",
       "      <td>-20324.927720</td>\n",
       "      <td>-1.364074</td>\n",
       "      <td>1.738330e-01</td>\n",
       "      <td>-49678.260846</td>\n",
       "      <td>9028.405406</td>\n",
       "      <td>1.0</td>\n",
       "    </tr>\n",
       "    <tr>\n",
       "      <th>City Zone</th>\n",
       "      <td>-8545.351212</td>\n",
       "      <td>-5.794101</td>\n",
       "      <td>2.165552e-08</td>\n",
       "      <td>-11450.779179</td>\n",
       "      <td>-5639.923246</td>\n",
       "      <td>1.0</td>\n",
       "    </tr>\n",
       "    <tr>\n",
       "      <th>m^2</th>\n",
       "      <td>3303.535538</td>\n",
       "      <td>17.151911</td>\n",
       "      <td>0.000000e+00</td>\n",
       "      <td>2924.104638</td>\n",
       "      <td>3682.966437</td>\n",
       "      <td>1.0</td>\n",
       "    </tr>\n",
       "    <tr>\n",
       "      <th>Rooms</th>\n",
       "      <td>-9401.335439</td>\n",
       "      <td>-1.728309</td>\n",
       "      <td>8.522988e-02</td>\n",
       "      <td>-20117.379073</td>\n",
       "      <td>1314.708196</td>\n",
       "      <td>1.0</td>\n",
       "    </tr>\n",
       "    <tr>\n",
       "      <th>Bathrooms</th>\n",
       "      <td>30244.383089</td>\n",
       "      <td>3.218326</td>\n",
       "      <td>1.468780e-03</td>\n",
       "      <td>11731.208728</td>\n",
       "      <td>48757.557451</td>\n",
       "      <td>1.0</td>\n",
       "    </tr>\n",
       "    <tr>\n",
       "      <th>Elevator</th>\n",
       "      <td>4753.826983</td>\n",
       "      <td>0.591136</td>\n",
       "      <td>5.549902e-01</td>\n",
       "      <td>-11088.615416</td>\n",
       "      <td>20596.269381</td>\n",
       "      <td>1.0</td>\n",
       "    </tr>\n",
       "    <tr>\n",
       "      <th>\"Atico\"</th>\n",
       "      <td>17709.052227</td>\n",
       "      <td>1.237177</td>\n",
       "      <td>2.172408e-01</td>\n",
       "      <td>-10489.696392</td>\n",
       "      <td>45907.800846</td>\n",
       "      <td>1.0</td>\n",
       "    </tr>\n",
       "    <tr>\n",
       "      <th>Terrasse</th>\n",
       "      <td>2603.893600</td>\n",
       "      <td>0.250269</td>\n",
       "      <td>8.025949e-01</td>\n",
       "      <td>-17892.702485</td>\n",
       "      <td>23100.489684</td>\n",
       "      <td>1.0</td>\n",
       "    </tr>\n",
       "    <tr>\n",
       "      <th>Parking</th>\n",
       "      <td>74776.518143</td>\n",
       "      <td>3.975703</td>\n",
       "      <td>9.310860e-05</td>\n",
       "      <td>37724.018927</td>\n",
       "      <td>111829.017359</td>\n",
       "      <td>1.0</td>\n",
       "    </tr>\n",
       "    <tr>\n",
       "      <th>Kitchen</th>\n",
       "      <td>-3600.796539</td>\n",
       "      <td>-0.330011</td>\n",
       "      <td>7.416820e-01</td>\n",
       "      <td>-25095.746076</td>\n",
       "      <td>17894.152998</td>\n",
       "      <td>1.0</td>\n",
       "    </tr>\n",
       "    <tr>\n",
       "      <th>House Style</th>\n",
       "      <td>-53230.147063</td>\n",
       "      <td>-2.641091</td>\n",
       "      <td>8.811172e-03</td>\n",
       "      <td>-92934.715288</td>\n",
       "      <td>-13525.578839</td>\n",
       "      <td>1.0</td>\n",
       "    </tr>\n",
       "    <tr>\n",
       "      <th>Yard</th>\n",
       "      <td>28286.845283</td>\n",
       "      <td>1.326005</td>\n",
       "      <td>1.861092e-01</td>\n",
       "      <td>-13737.941286</td>\n",
       "      <td>70311.631853</td>\n",
       "      <td>1.0</td>\n",
       "    </tr>\n",
       "  </tbody>\n",
       "</table>\n",
       "</div>"
      ],
      "text/plain": [
       "                     beta    t-value      Pr(>|t|)     low_bound  \\\n",
       "Ones        -20324.927720  -1.364074  1.738330e-01 -49678.260846   \n",
       "City Zone    -8545.351212  -5.794101  2.165552e-08 -11450.779179   \n",
       "m^2           3303.535538  17.151911  0.000000e+00   2924.104638   \n",
       "Rooms        -9401.335439  -1.728309  8.522988e-02 -20117.379073   \n",
       "Bathrooms    30244.383089   3.218326  1.468780e-03  11731.208728   \n",
       "Elevator      4753.826983   0.591136  5.549902e-01 -11088.615416   \n",
       "\"Atico\"      17709.052227   1.237177  2.172408e-01 -10489.696392   \n",
       "Terrasse      2603.893600   0.250269  8.025949e-01 -17892.702485   \n",
       "Parking      74776.518143   3.975703  9.310860e-05  37724.018927   \n",
       "Kitchen      -3600.796539  -0.330011  7.416820e-01 -25095.746076   \n",
       "House Style -53230.147063  -2.641091  8.811172e-03 -92934.715288   \n",
       "Yard         28286.845283   1.326005  1.861092e-01 -13737.941286   \n",
       "\n",
       "                   up_boud   in  \n",
       "Ones           9028.405406  1.0  \n",
       "City Zone     -5639.923246  1.0  \n",
       "m^2            3682.966437  1.0  \n",
       "Rooms          1314.708196  1.0  \n",
       "Bathrooms     48757.557451  1.0  \n",
       "Elevator      20596.269381  1.0  \n",
       "\"Atico\"       45907.800846  1.0  \n",
       "Terrasse      23100.489684  1.0  \n",
       "Parking      111829.017359  1.0  \n",
       "Kitchen       17894.152998  1.0  \n",
       "House Style  -13525.578839  1.0  \n",
       "Yard          70311.631853  1.0  "
      ]
     },
     "execution_count": 221,
     "metadata": {},
     "output_type": "execute_result"
    }
   ],
   "source": [
    "N = 250\n",
    "U = Y - Y_pre\n",
    "R2 = R_suqare(Y_pre, Y)\n",
    "print(R2, np.sum((Y-Y_pre)**2)**0.5)\n",
    "col_names = house_price.columns[0:12]\n",
    "res_data, res_df = T_test(Betas, X, Y, Y_pre, N, col_names)\n",
    "res_df"
   ]
  },
  {
   "cell_type": "code",
   "execution_count": 436,
   "metadata": {},
   "outputs": [
    {
     "name": "stdout",
     "output_type": "stream",
     "text": [
      "0.8291538743237377 931270.3118831174\n"
     ]
    },
    {
     "data": {
      "text/html": [
       "<div>\n",
       "<style scoped>\n",
       "    .dataframe tbody tr th:only-of-type {\n",
       "        vertical-align: middle;\n",
       "    }\n",
       "\n",
       "    .dataframe tbody tr th {\n",
       "        vertical-align: top;\n",
       "    }\n",
       "\n",
       "    .dataframe thead th {\n",
       "        text-align: right;\n",
       "    }\n",
       "</style>\n",
       "<table border=\"1\" class=\"dataframe\">\n",
       "  <thead>\n",
       "    <tr style=\"text-align: right;\">\n",
       "      <th></th>\n",
       "      <th>beta</th>\n",
       "      <th>t-value</th>\n",
       "      <th>Pr(&gt;|t|)</th>\n",
       "      <th>low_bound</th>\n",
       "      <th>up_boud</th>\n",
       "      <th>in</th>\n",
       "    </tr>\n",
       "  </thead>\n",
       "  <tbody>\n",
       "    <tr>\n",
       "      <th>Ones</th>\n",
       "      <td>-18958.893981</td>\n",
       "      <td>-1.270581</td>\n",
       "      <td>2.051183e-01</td>\n",
       "      <td>-48354.118897</td>\n",
       "      <td>10436.330935</td>\n",
       "      <td>1.0</td>\n",
       "    </tr>\n",
       "    <tr>\n",
       "      <th>City Zone</th>\n",
       "      <td>-8748.957774</td>\n",
       "      <td>-5.923700</td>\n",
       "      <td>1.095134e-08</td>\n",
       "      <td>-11658.532240</td>\n",
       "      <td>-5839.383308</td>\n",
       "      <td>1.0</td>\n",
       "    </tr>\n",
       "    <tr>\n",
       "      <th>m^2</th>\n",
       "      <td>3341.380331</td>\n",
       "      <td>17.323677</td>\n",
       "      <td>0.000000e+00</td>\n",
       "      <td>2961.407924</td>\n",
       "      <td>3721.352738</td>\n",
       "      <td>1.0</td>\n",
       "    </tr>\n",
       "    <tr>\n",
       "      <th>Rooms</th>\n",
       "      <td>-9679.342006</td>\n",
       "      <td>-1.776881</td>\n",
       "      <td>7.686515e-02</td>\n",
       "      <td>-20410.679109</td>\n",
       "      <td>1051.995096</td>\n",
       "      <td>1.0</td>\n",
       "    </tr>\n",
       "    <tr>\n",
       "      <th>Bathrooms</th>\n",
       "      <td>28418.873545</td>\n",
       "      <td>3.019763</td>\n",
       "      <td>2.805416e-03</td>\n",
       "      <td>9879.277992</td>\n",
       "      <td>46958.469097</td>\n",
       "      <td>1.0</td>\n",
       "    </tr>\n",
       "    <tr>\n",
       "      <th>Elevator</th>\n",
       "      <td>4935.635678</td>\n",
       "      <td>0.612869</td>\n",
       "      <td>5.405480e-01</td>\n",
       "      <td>-10929.416359</td>\n",
       "      <td>20800.687716</td>\n",
       "      <td>1.0</td>\n",
       "    </tr>\n",
       "    <tr>\n",
       "      <th>\"Atico\"</th>\n",
       "      <td>15164.851448</td>\n",
       "      <td>1.057926</td>\n",
       "      <td>2.911619e-01</td>\n",
       "      <td>-13074.141189</td>\n",
       "      <td>43403.844084</td>\n",
       "      <td>1.0</td>\n",
       "    </tr>\n",
       "    <tr>\n",
       "      <th>Terrasse</th>\n",
       "      <td>2493.677707</td>\n",
       "      <td>0.239335</td>\n",
       "      <td>8.110521e-01</td>\n",
       "      <td>-18032.170220</td>\n",
       "      <td>23019.525635</td>\n",
       "      <td>1.0</td>\n",
       "    </tr>\n",
       "    <tr>\n",
       "      <th>Parking</th>\n",
       "      <td>64849.559781</td>\n",
       "      <td>3.442995</td>\n",
       "      <td>6.795837e-04</td>\n",
       "      <td>27744.180863</td>\n",
       "      <td>101954.938700</td>\n",
       "      <td>1.0</td>\n",
       "    </tr>\n",
       "    <tr>\n",
       "      <th>Kitchen</th>\n",
       "      <td>-2463.527607</td>\n",
       "      <td>-0.225459</td>\n",
       "      <td>8.218156e-01</td>\n",
       "      <td>-23989.153793</td>\n",
       "      <td>19062.098580</td>\n",
       "      <td>1.0</td>\n",
       "    </tr>\n",
       "    <tr>\n",
       "      <th>House Style</th>\n",
       "      <td>-43261.394792</td>\n",
       "      <td>-2.143418</td>\n",
       "      <td>3.309367e-02</td>\n",
       "      <td>-83022.627636</td>\n",
       "      <td>-3500.161948</td>\n",
       "      <td>1.0</td>\n",
       "    </tr>\n",
       "    <tr>\n",
       "      <th>Yard</th>\n",
       "      <td>26549.896982</td>\n",
       "      <td>1.242808</td>\n",
       "      <td>2.151615e-01</td>\n",
       "      <td>-15534.865520</td>\n",
       "      <td>68634.659485</td>\n",
       "      <td>1.0</td>\n",
       "    </tr>\n",
       "  </tbody>\n",
       "</table>\n",
       "</div>"
      ],
      "text/plain": [
       "                     beta    t-value      Pr(>|t|)     low_bound  \\\n",
       "Ones        -18958.893981  -1.270581  2.051183e-01 -48354.118897   \n",
       "City Zone    -8748.957774  -5.923700  1.095134e-08 -11658.532240   \n",
       "m^2           3341.380331  17.323677  0.000000e+00   2961.407924   \n",
       "Rooms        -9679.342006  -1.776881  7.686515e-02 -20410.679109   \n",
       "Bathrooms    28418.873545   3.019763  2.805416e-03   9879.277992   \n",
       "Elevator      4935.635678   0.612869  5.405480e-01 -10929.416359   \n",
       "\"Atico\"      15164.851448   1.057926  2.911619e-01 -13074.141189   \n",
       "Terrasse      2493.677707   0.239335  8.110521e-01 -18032.170220   \n",
       "Parking      64849.559781   3.442995  6.795837e-04  27744.180863   \n",
       "Kitchen      -2463.527607  -0.225459  8.218156e-01 -23989.153793   \n",
       "House Style -43261.394792  -2.143418  3.309367e-02 -83022.627636   \n",
       "Yard         26549.896982   1.242808  2.151615e-01 -15534.865520   \n",
       "\n",
       "                   up_boud   in  \n",
       "Ones          10436.330935  1.0  \n",
       "City Zone     -5839.383308  1.0  \n",
       "m^2            3721.352738  1.0  \n",
       "Rooms          1051.995096  1.0  \n",
       "Bathrooms     46958.469097  1.0  \n",
       "Elevator      20800.687716  1.0  \n",
       "\"Atico\"       43403.844084  1.0  \n",
       "Terrasse      23019.525635  1.0  \n",
       "Parking      101954.938700  1.0  \n",
       "Kitchen       19062.098580  1.0  \n",
       "House Style   -3500.161948  1.0  \n",
       "Yard          68634.659485  1.0  "
      ]
     },
     "execution_count": 436,
     "metadata": {},
     "output_type": "execute_result"
    }
   ],
   "source": [
    "N = 250\n",
    "Betas1 = ridge_reg(X, Y, 2.0)\n",
    "Y_pre1 = Predict(X, Betas1)\n",
    "R2 = R_suqare(Y_pre1, Y)\n",
    "print(R2, np.sum((Y-Y_pre1)**2)**0.5)\n",
    "res_data1, res_df1 = T_test(Betas1, X, Y, Y_pre1, N, col_names)\n",
    "res_df1"
   ]
  },
  {
   "cell_type": "markdown",
   "metadata": {},
   "source": [
    "## feature select"
   ]
  },
  {
   "cell_type": "code",
   "execution_count": 356,
   "metadata": {},
   "outputs": [],
   "source": [
    "ls1 = np.where(res_data[:, 2]>=0.1)\n",
    "ls1 = ls1[0].tolist()\n",
    "ls2 = np.where(res_data[:, 2]<0.1)\n",
    "ls2 = ls2[0].tolist()"
   ]
  },
  {
   "cell_type": "code",
   "execution_count": 361,
   "metadata": {},
   "outputs": [],
   "source": [
    "ls2 = [0, 1, 2]\n",
    "ls1 = [3, 4, 5, 6, 7, 8, 9, 10, 11]"
   ]
  },
  {
   "cell_type": "code",
   "execution_count": 328,
   "metadata": {},
   "outputs": [
    {
     "data": {
      "text/plain": [
       "[0, 1, 2, 3, 4, 6, 8, 10]"
      ]
     },
     "execution_count": 328,
     "metadata": {},
     "output_type": "execute_result"
    }
   ],
   "source": [
    "l = ls2 + [ls1[0], ls1[2]]\n",
    "l.sort()\n",
    "l"
   ]
  },
  {
   "cell_type": "code",
   "execution_count": 434,
   "metadata": {},
   "outputs": [
    {
     "name": "stdout",
     "output_type": "stream",
     "text": [
      "[0, 1, 2]\n",
      "[0, 1, 2, 3]\n",
      "[0, 1, 2, 3, 4]\n",
      "[0, 1, 2, 3, 4, 5]\n",
      "[0, 1, 2, 3, 4, 5, 6]\n",
      "[0, 1, 2, 3, 4, 5, 6, 7]\n",
      "[0, 1, 2, 3, 4, 5, 6, 7, 8]\n",
      "[0, 1, 2, 3, 4, 5, 6, 7, 8, 9]\n",
      "[0, 1, 2, 3, 4, 5, 6, 7, 8, 9, 10]\n",
      "[0, 1, 2, 3, 4, 5, 6, 7, 8, 9, 10, 11]\n"
     ]
    }
   ],
   "source": [
    "N = 250\n",
    "ls1\n",
    "\n",
    "R2s, RES = [], []\n",
    "for i  in range(len(ls1)+1):\n",
    "    feat_idxs = ls2 + ls1[0:i]\n",
    "    feat_idxs.sort()\n",
    "    print(feat_idxs)\n",
    "    X_new = X[:, feat_idxs]\n",
    "    RES1 = 0\n",
    "    R2s1 = 0\n",
    "    for j in range(10):\n",
    "        test_idxs = [i+25*j for i in range(25)]\n",
    "        train_idxs = list(set(all_idxs)-set(test_idxs))\n",
    "        X_tran, Y_train = X_new[train_idxs, :], Y[train_idxs,:]\n",
    "        X_test, Y_test = X_new[test_idxs, :], Y[test_idxs,:]\n",
    "        Betas1 = ridge_reg(X_tran, Y_train, alpha_i)\n",
    "        Y_pre1 = Predict(X_test, Betas1)\n",
    "        R2 = R_suqare(Y_pre1, Y_test)\n",
    "        res = np.sum((Y_test-Y_pre1)**2)**0.5\n",
    "        RES1 += res\n",
    "        R2s1 += R2\n",
    "    R2s.append(R2s1/5.0)\n",
    "    RES.append(RES1/5.0)"
   ]
  },
  {
   "cell_type": "code",
   "execution_count": 353,
   "metadata": {},
   "outputs": [
    {
     "data": {
      "text/plain": [
       "9"
      ]
     },
     "execution_count": 353,
     "metadata": {},
     "output_type": "execute_result"
    }
   ],
   "source": [
    "[0, 1, 2, 4, 8, 10]"
   ]
  },
  {
   "cell_type": "code",
   "execution_count": 363,
   "metadata": {},
   "outputs": [
    {
     "data": {
      "image/png": "[encoded data removed]",
      "text/plain": [
       "<Figure size 432x288 with 1 Axes>"
      ]
     },
     "metadata": {
      "needs_background": "light"
     },
     "output_type": "display_data"
    },
    {
     "data": {
      "image/png": "[encoded data removed]",
      "text/plain": [
       "<Figure size 432x288 with 1 Axes>"
      ]
     },
     "metadata": {
      "needs_background": "light"
     },
     "output_type": "display_data"
    }
   ],
   "source": [
    "#RES_new = np.array(RES) - 444000\n",
    "x_a = [i for i in range(len(ls1))]\n",
    "plt.scatter(x_a, RES, alpha=0.6, color='r', s=8)  \n",
    "plt.show()\n",
    "plt.scatter(x_a, R2s, alpha=0.6, color='b', s=8)  \n",
    "plt.show()"
   ]
  },
  {
   "cell_type": "markdown",
   "metadata": {},
   "source": [
    "## lambda select"
   ]
  },
  {
   "cell_type": "code",
   "execution_count": 359,
   "metadata": {},
   "outputs": [
    {
     "data": {
      "image/png": "[encoded data removed]",
      "text/plain": [
       "<Figure size 432x288 with 1 Axes>"
      ]
     },
     "metadata": {
      "needs_background": "light"
     },
     "output_type": "display_data"
    },
    {
     "data": {
      "image/png": "[encoded data removed]",
      "text/plain": [
       "<Figure size 432x288 with 1 Axes>"
      ]
     },
     "metadata": {
      "needs_background": "light"
     },
     "output_type": "display_data"
    }
   ],
   "source": [
    "N = 250\n",
    "j = 0\n",
    "all_idxs = [i for i in range(250)]\n",
    "alphas = [i*0.1 for i in range(200)]\n",
    "RES = []\n",
    "R2s = []\n",
    "for alpha_i in alphas:\n",
    "    RES1 = 0\n",
    "    R2s1 = 0\n",
    "    for j in range(10):\n",
    "        test_idxs = [i+25*j for i in range(25)]\n",
    "        train_idxs = list(set(all_idxs)-set(test_idxs))\n",
    "        X_tran, Y_train = X[train_idxs, :], Y[train_idxs,:]\n",
    "        X_test, Y_test = X[test_idxs, :], Y[test_idxs,:]\n",
    "        Betas1 = ridge_reg(X_tran, Y_train, alpha_i)\n",
    "        Y_pre1 = Predict(X_test, Betas1)\n",
    "        R2 = R_suqare(Y_pre1, Y_test)\n",
    "        res = np.sum((Y_test-Y_pre1)**2)**0.5\n",
    "        RES1 += res\n",
    "        R2s1 += R2\n",
    "    R2s.append(R2s1/5.0)\n",
    "    RES.append(RES1/5.0)\n",
    "import matplotlib.pyplot as plt\n",
    "RES_new = np.array(RES) - 444000\n",
    "plt.scatter(alphas, RES_new, alpha=0.6, color='r', s=0.1)  \n",
    "plt.show()\n",
    "plt.scatter(alphas, R2s, alpha=0.6, color='b', s=0.1)  \n",
    "plt.show()"
   ]
  },
  {
   "cell_type": "code",
   "execution_count": 418,
   "metadata": {},
   "outputs": [
    {
     "data": {
      "image/png": "[encoded data removed]",
      "text/plain": [
       "<Figure size 432x288 with 1 Axes>"
      ]
     },
     "metadata": {
      "needs_background": "light"
     },
     "output_type": "display_data"
    },
    {
     "data": {
      "image/png": "[encoded data removed]",
      "text/plain": [
       "<Figure size 432x288 with 1 Axes>"
      ]
     },
     "metadata": {
      "needs_background": "light"
     },
     "output_type": "display_data"
    },
    {
     "name": "stdout",
     "output_type": "stream",
     "text": [
      "optimal lambda is 3.3000000000000003\n"
     ]
    }
   ],
   "source": [
    "N = 250\n",
    "j = 0\n",
    "x_idxs = [0, 1, 2, 3, 4, 5, 8, 10]\n",
    "all_idxs = [i for i in range(250)]\n",
    "alphas = [i*0.1 for i in range(200)]\n",
    "RES = []\n",
    "R2s = []\n",
    "for alpha_i in alphas:\n",
    "    RES1 = 0\n",
    "    R2s1 = 0\n",
    "    X_new = X[:, x_idxs]\n",
    "    for j in range(5):\n",
    "        test_idxs = [i+50*j for i in range(50)]\n",
    "        train_idxs = list(set(all_idxs)-set(test_idxs))\n",
    "        X_tran, Y_train = X_new[train_idxs, :], Y[train_idxs,:]\n",
    "        X_test, Y_test = X_new[test_idxs, :], Y[test_idxs,:]\n",
    "        Betas1 = ridge_reg(X_tran, Y_train, alpha_i)\n",
    "        Y_pre1 = Predict(X_test, Betas1)\n",
    "        R2 = R_suqare(Y_pre1, Y_test)\n",
    "        res = np.sum((Y_test-Y_pre1)**2)**0.5\n",
    "        RES1 += res\n",
    "        R2s1 += R2\n",
    "    R2s.append(R2s1/5.0)\n",
    "    RES.append(RES1/5.0)\n",
    "import matplotlib.pyplot as plt\n",
    "RES_new = np.array(RES) - 444000\n",
    "plt.scatter(alphas, RES_new, alpha=0.6, color='r', s=0.1)  \n",
    "plt.show()\n",
    "plt.scatter(alphas, R2s, alpha=0.6, color='b', s=0.1)  \n",
    "plt.show()\n",
    "print('optimal lambda is {}'.format(alphas[RES.index(min(RES))]))"
   ]
  },
  {
   "cell_type": "code",
   "execution_count": 435,
   "metadata": {},
   "outputs": [],
   "source": [
    "x_idxs = [0, 1, 2,3, 4, 5,6,7, 9,10,11]\n",
    "def run_select(x_idxs, house_train, times=10):\n",
    "    best_lams = []\n",
    "    data = deepcopy(house_train)\n",
    "    for i in range(times):\n",
    "        N = 250\n",
    "        j = 0\n",
    "        RES = []\n",
    "        R2s = []\n",
    "        all_idxs = [i for i in range(250)]\n",
    "        alphas = [i*0.1 for i in range(200)]\n",
    "        np.random.shuffle(data)\n",
    "        XX = data[:, 0:12]\n",
    "        Y = data[:, 12]\n",
    "        Y = np.reshape(Y, (Y.shape[0], 1))\n",
    "        for alpha_i in alphas:\n",
    "            RES1 = 0\n",
    "            R2s1 = 0\n",
    "            X_new = XX[:, x_idxs]\n",
    "            for j in range(5):\n",
    "                test_idxs = [i+50*j for i in range(50)]\n",
    "                train_idxs = list(set(all_idxs)-set(test_idxs))\n",
    "                X_tran, Y_train = X_new[train_idxs, :], Y[train_idxs,:]\n",
    "                X_test, Y_test = X_new[test_idxs, :], Y[test_idxs,:]\n",
    "                Betas1 = ridge_reg(X_tran, Y_train, alpha_i)\n",
    "                Y_pre1 = Predict(X_test, Betas1)\n",
    "                R2 = R_suqare(Y_pre1, Y_test)\n",
    "                res = np.sum((Y_test-Y_pre1)**2)**0.5\n",
    "                RES1 += res\n",
    "                R2s1 += R2\n",
    "            R2s.append(R2s1/5.0)\n",
    "            RES.append(RES1/5.0)\n",
    "        import matplotlib.pyplot as plt\n",
    "        RES_new = np.array(RES) - 444000\n",
    "        plt.scatter(alphas, RES_new, alpha=0.6, color='r', s=0.1)  \n",
    "        plt.show()\n",
    "        plt.scatter(alphas, R2s, alpha=0.6, color='b', s=0.1)  \n",
    "        plt.show()\n",
    "        optimal_val = alphas[RES.index(min(RES))]\n",
    "        best_lams.append(optimal_val)\n",
    "        print('optimal lambda is {}'.format(alphas[RES.index(min(RES))]))\n",
    "    return best_lams"
   ]
  },
  {
   "cell_type": "code",
   "execution_count": 432,
   "metadata": {},
   "outputs": [
    {
     "data": {
      "text/plain": [
       "21.423100000000005"
      ]
     },
     "execution_count": 432,
     "metadata": {},
     "output_type": "execute_result"
    }
   ],
   "source": [
    "np.mean(np.array(best_lams))\n",
    "np.var(np.array(best_lams))"
   ]
  },
  {
   "cell_type": "markdown",
   "metadata": {},
   "source": [
    "### 3.1 adjustment for final model"
   ]
  },
  {
   "cell_type": "code",
   "execution_count": 446,
   "metadata": {},
   "outputs": [
    {
     "data": {
      "text/plain": [
       "12"
      ]
     },
     "execution_count": 446,
     "metadata": {},
     "output_type": "execute_result"
    }
   ],
   "source": [
    "len(col_names)"
   ]
  },
  {
   "cell_type": "code",
   "execution_count": 510,
   "metadata": {},
   "outputs": [
    {
     "ename": "IndexError",
     "evalue": "too many indices for array",
     "output_type": "error",
     "traceback": [
      "\u001b[0;31m---------------------------------------------------------------------------\u001b[0m",
      "\u001b[0;31mIndexError\u001b[0m                                Traceback (most recent call last)",
      "\u001b[0;32m<ipython-input-510-2fa38e6b064e>\u001b[0m in \u001b[0;36m<module>\u001b[0;34m\u001b[0m\n\u001b[1;32m      2\u001b[0m \u001b[0mx_idxs\u001b[0m \u001b[0;34m=\u001b[0m \u001b[0;34m[\u001b[0m\u001b[0;36m0\u001b[0m\u001b[0;34m,\u001b[0m \u001b[0;36m1\u001b[0m\u001b[0;34m,\u001b[0m \u001b[0;36m2\u001b[0m\u001b[0;34m,\u001b[0m\u001b[0;36m3\u001b[0m\u001b[0;34m,\u001b[0m\u001b[0;36m4\u001b[0m\u001b[0;34m,\u001b[0m \u001b[0;36m5\u001b[0m\u001b[0;34m,\u001b[0m\u001b[0;36m6\u001b[0m\u001b[0;34m,\u001b[0m\u001b[0;36m7\u001b[0m\u001b[0;34m,\u001b[0m\u001b[0;36m9\u001b[0m\u001b[0;34m,\u001b[0m\u001b[0;36m10\u001b[0m\u001b[0;34m,\u001b[0m\u001b[0;36m11\u001b[0m\u001b[0;34m]\u001b[0m\u001b[0;34m\u001b[0m\u001b[0;34m\u001b[0m\u001b[0m\n\u001b[1;32m      3\u001b[0m \u001b[0mX_new\u001b[0m \u001b[0;34m=\u001b[0m \u001b[0mX\u001b[0m\u001b[0;34m\u001b[0m\u001b[0;34m\u001b[0m\u001b[0m\n\u001b[0;32m----> 4\u001b[0;31m \u001b[0mX_train\u001b[0m\u001b[0;34m,\u001b[0m \u001b[0mY_train\u001b[0m \u001b[0;34m=\u001b[0m \u001b[0mX_new\u001b[0m\u001b[0;34m[\u001b[0m\u001b[0;34m:\u001b[0m\u001b[0;34m,\u001b[0m \u001b[0mx_idxs\u001b[0m\u001b[0;34m]\u001b[0m\u001b[0;34m,\u001b[0m \u001b[0mY\u001b[0m\u001b[0;34m\u001b[0m\u001b[0;34m\u001b[0m\u001b[0m\n\u001b[0m\u001b[1;32m      5\u001b[0m \u001b[0mBetasf\u001b[0m \u001b[0;34m=\u001b[0m \u001b[0mridge_reg\u001b[0m\u001b[0;34m(\u001b[0m\u001b[0mX_train\u001b[0m\u001b[0;34m,\u001b[0m \u001b[0mY_train\u001b[0m\u001b[0;34m,\u001b[0m \u001b[0mlam\u001b[0m\u001b[0;34m=\u001b[0m\u001b[0mlam\u001b[0m\u001b[0;34m)\u001b[0m\u001b[0;34m\u001b[0m\u001b[0;34m\u001b[0m\u001b[0m\n\u001b[1;32m      6\u001b[0m \u001b[0mY_pre_f\u001b[0m \u001b[0;34m=\u001b[0m \u001b[0mPredict\u001b[0m\u001b[0;34m(\u001b[0m\u001b[0mX_train\u001b[0m\u001b[0;34m,\u001b[0m \u001b[0mBetasf\u001b[0m\u001b[0;34m)\u001b[0m\u001b[0;34m\u001b[0m\u001b[0;34m\u001b[0m\u001b[0m\n",
      "\u001b[0;31mIndexError\u001b[0m: too many indices for array"
     ]
    }
   ],
   "source": [
    "lam= 0.5\n",
    "x_idxs = [0, 1, 2,3,4, 5,6,7,9,10,11]\n",
    "X_new = X\n",
    "X_train, Y_train = X_new[:, x_idxs], Y\n",
    "Betasf = ridge_reg(X_train, Y_train, lam=lam)\n",
    "Y_pre_f = Predict(X_train, Betasf)\n",
    "R2 = R_suqare(Y_pre_f, Y_train)\n",
    "res = np.sum((Y_train-Y_pre_f)**2)**0.5\n",
    "R2 = R_suqare(Y_pre_f, Y_train)\n",
    "print(R2, np.sum((Y_train-Y_pre_f)**2)**0.5)\n",
    "col_names = house_price.columns[0:11]\n",
    "col_names.delete(8)\n",
    "res_data, res_df = T_test(Betasf, X_train, Y_train, Y_pre_f, N, col_names)\n",
    "res_df"
   ]
  },
  {
   "cell_type": "code",
   "execution_count": 455,
   "metadata": {},
   "outputs": [
    {
     "name": "stdout",
     "output_type": "stream",
     "text": [
      "0.8181864995521282 960696.6030879413\n"
     ]
    },
    {
     "data": {
      "text/html": [
       "<div>\n",
       "<style scoped>\n",
       "    .dataframe tbody tr th:only-of-type {\n",
       "        vertical-align: middle;\n",
       "    }\n",
       "\n",
       "    .dataframe tbody tr th {\n",
       "        vertical-align: top;\n",
       "    }\n",
       "\n",
       "    .dataframe thead th {\n",
       "        text-align: right;\n",
       "    }\n",
       "</style>\n",
       "<table border=\"1\" class=\"dataframe\">\n",
       "  <thead>\n",
       "    <tr style=\"text-align: right;\">\n",
       "      <th></th>\n",
       "      <th>beta</th>\n",
       "      <th>t-value</th>\n",
       "      <th>Pr(&gt;|t|)</th>\n",
       "      <th>low_bound</th>\n",
       "      <th>up_boud</th>\n",
       "      <th>in</th>\n",
       "    </tr>\n",
       "  </thead>\n",
       "  <tbody>\n",
       "    <tr>\n",
       "      <th>Ones</th>\n",
       "      <td>-25493.935978</td>\n",
       "      <td>-1.666528</td>\n",
       "      <td>9.691832e-02</td>\n",
       "      <td>-55630.281878</td>\n",
       "      <td>4642.409923</td>\n",
       "      <td>1.0</td>\n",
       "    </tr>\n",
       "    <tr>\n",
       "      <th>City Zone</th>\n",
       "      <td>-8960.059684</td>\n",
       "      <td>-5.889528</td>\n",
       "      <td>1.306036e-08</td>\n",
       "      <td>-11957.127748</td>\n",
       "      <td>-5962.991619</td>\n",
       "      <td>1.0</td>\n",
       "    </tr>\n",
       "    <tr>\n",
       "      <th>m^2</th>\n",
       "      <td>3556.699207</td>\n",
       "      <td>18.924090</td>\n",
       "      <td>0.000000e+00</td>\n",
       "      <td>3186.446404</td>\n",
       "      <td>3926.952011</td>\n",
       "      <td>1.0</td>\n",
       "    </tr>\n",
       "    <tr>\n",
       "      <th>Rooms</th>\n",
       "      <td>-13197.506590</td>\n",
       "      <td>-2.387944</td>\n",
       "      <td>1.772060e-02</td>\n",
       "      <td>-24085.150906</td>\n",
       "      <td>-2309.862274</td>\n",
       "      <td>1.0</td>\n",
       "    </tr>\n",
       "    <tr>\n",
       "      <th>Bathrooms</th>\n",
       "      <td>29139.760043</td>\n",
       "      <td>3.001563</td>\n",
       "      <td>2.970832e-03</td>\n",
       "      <td>10014.615005</td>\n",
       "      <td>48264.905082</td>\n",
       "      <td>1.0</td>\n",
       "    </tr>\n",
       "    <tr>\n",
       "      <th>Elevator</th>\n",
       "      <td>6369.257064</td>\n",
       "      <td>0.767597</td>\n",
       "      <td>4.434841e-01</td>\n",
       "      <td>-9977.119850</td>\n",
       "      <td>22715.633979</td>\n",
       "      <td>1.0</td>\n",
       "    </tr>\n",
       "    <tr>\n",
       "      <th>\"Atico\"</th>\n",
       "      <td>9062.486309</td>\n",
       "      <td>0.619243</td>\n",
       "      <td>5.363461e-01</td>\n",
       "      <td>-19768.034299</td>\n",
       "      <td>37893.006917</td>\n",
       "      <td>1.0</td>\n",
       "    </tr>\n",
       "    <tr>\n",
       "      <th>Terrasse</th>\n",
       "      <td>6072.207066</td>\n",
       "      <td>0.567713</td>\n",
       "      <td>5.707626e-01</td>\n",
       "      <td>-14998.725414</td>\n",
       "      <td>27143.139545</td>\n",
       "      <td>1.0</td>\n",
       "    </tr>\n",
       "    <tr>\n",
       "      <th>Parking</th>\n",
       "      <td>1200.472317</td>\n",
       "      <td>0.107137</td>\n",
       "      <td>9.147702e-01</td>\n",
       "      <td>-20873.431427</td>\n",
       "      <td>23274.376062</td>\n",
       "      <td>1.0</td>\n",
       "    </tr>\n",
       "    <tr>\n",
       "      <th>Kitchen</th>\n",
       "      <td>-50114.106175</td>\n",
       "      <td>-2.408647</td>\n",
       "      <td>1.676960e-02</td>\n",
       "      <td>-91101.763848</td>\n",
       "      <td>-9126.448501</td>\n",
       "      <td>1.0</td>\n",
       "    </tr>\n",
       "    <tr>\n",
       "      <th>House Style</th>\n",
       "      <td>54690.819120</td>\n",
       "      <td>2.685852</td>\n",
       "      <td>7.741766e-03</td>\n",
       "      <td>14576.574037</td>\n",
       "      <td>94805.064204</td>\n",
       "      <td>1.0</td>\n",
       "    </tr>\n",
       "  </tbody>\n",
       "</table>\n",
       "</div>"
      ],
      "text/plain": [
       "                     beta    t-value      Pr(>|t|)     low_bound  \\\n",
       "Ones        -25493.935978  -1.666528  9.691832e-02 -55630.281878   \n",
       "City Zone    -8960.059684  -5.889528  1.306036e-08 -11957.127748   \n",
       "m^2           3556.699207  18.924090  0.000000e+00   3186.446404   \n",
       "Rooms       -13197.506590  -2.387944  1.772060e-02 -24085.150906   \n",
       "Bathrooms    29139.760043   3.001563  2.970832e-03  10014.615005   \n",
       "Elevator      6369.257064   0.767597  4.434841e-01  -9977.119850   \n",
       "\"Atico\"       9062.486309   0.619243  5.363461e-01 -19768.034299   \n",
       "Terrasse      6072.207066   0.567713  5.707626e-01 -14998.725414   \n",
       "Parking       1200.472317   0.107137  9.147702e-01 -20873.431427   \n",
       "Kitchen     -50114.106175  -2.408647  1.676960e-02 -91101.763848   \n",
       "House Style  54690.819120   2.685852  7.741766e-03  14576.574037   \n",
       "\n",
       "                  up_boud   in  \n",
       "Ones          4642.409923  1.0  \n",
       "City Zone    -5962.991619  1.0  \n",
       "m^2           3926.952011  1.0  \n",
       "Rooms        -2309.862274  1.0  \n",
       "Bathrooms    48264.905082  1.0  \n",
       "Elevator     22715.633979  1.0  \n",
       "\"Atico\"      37893.006917  1.0  \n",
       "Terrasse     27143.139545  1.0  \n",
       "Parking      23274.376062  1.0  \n",
       "Kitchen      -9126.448501  1.0  \n",
       "House Style  94805.064204  1.0  "
      ]
     },
     "execution_count": 455,
     "metadata": {},
     "output_type": "execute_result"
    }
   ],
   "source": [
    "lam= 1.0\n",
    "x_idxs = [0, 1, 2,3,4, 5,6,7,9,10,11]\n",
    "X_new = X\n",
    "X_train, Y_train = X_new[:, x_idxs], Y\n",
    "Betasf = ridge_reg(X_train, Y_train, lam=lam)\n",
    "Y_pre_f = Predict(X_train, Betasf)\n",
    "R2 = R_suqare(Y_pre_f, Y_train)\n",
    "res = np.sum((Y_train-Y_pre_f)**2)**0.5\n",
    "R2 = R_suqare(Y_pre_f, Y_train)\n",
    "print(R2, np.sum((Y_train-Y_pre_f)**2)**0.5)\n",
    "col_names = house_price.columns[0:11]\n",
    "col_names.delete(8)\n",
    "res_data, res_df = T_test(Betasf, X_train, Y_train, Y_pre_f, N, col_names)\n",
    "res_df"
   ]
  },
  {
   "cell_type": "code",
   "execution_count": 509,
   "metadata": {},
   "outputs": [
    {
     "data": {
      "text/plain": [
       "array([[-25493.93597757],\n",
       "       [ -8960.05968365],\n",
       "       [  3556.69920739],\n",
       "       [-13197.50659037],\n",
       "       [ 29139.76004345],\n",
       "       [  6369.25706424],\n",
       "       [  9062.48630885],\n",
       "       [  6072.20706558],\n",
       "       [  1200.47231736],\n",
       "       [-50114.10617469],\n",
       "       [ 54690.81912016]])"
      ]
     },
     "execution_count": 509,
     "metadata": {},
     "output_type": "execute_result"
    }
   ],
   "source": [
    "Betasf"
   ]
  },
  {
   "cell_type": "markdown",
   "metadata": {},
   "source": [
    "## 4 prediction"
   ]
  },
  {
   "cell_type": "code",
   "execution_count": null,
   "metadata": {},
   "outputs": [],
   "source": [
    "lam= 1.90\n",
    "x_idxs = [0, 1, 2,3 ,4, 5,6,7 ,9,10,11]"
   ]
  },
  {
   "cell_type": "code",
   "execution_count": 15,
   "metadata": {},
   "outputs": [],
   "source": [
    "house_price_test = pd.read_csv('./data_problemset1/Housing_Prices_predict.csv')\n",
    "house_price_test[\"City Zone\"] = pd.factorize(house_price_test[\"City Zone\"])[0].astype(np.uint16)\n",
    "col_name = house_price_test.columns.tolist()\n",
    "col_name.insert(col_name.index(\"City Zone\"),\"Ones\")\n",
    "house_price_test = house_price_test.reindex(columns=col_name)\n",
    "house_price_test[\"Ones\"] = pd.Series(np.ones(200).tolist())\n",
    "house_test = house_price_test.to_numpy()"
   ]
  },
  {
   "cell_type": "code",
   "execution_count": 452,
   "metadata": {},
   "outputs": [],
   "source": [
    "price_test = Predict(house_test[:, x_idxs], Betasf) \n",
    "price_test = np.array(np.reshape(price_test, (200,))).tolist()"
   ]
  },
  {
   "cell_type": "code",
   "execution_count": 464,
   "metadata": {},
   "outputs": [
    {
     "data": {
      "text/plain": [
       "['City Zone',\n",
       " 'Ones',\n",
       " 'City Zone Code',\n",
       " 'm^2',\n",
       " 'Rooms',\n",
       " 'Bathrooms',\n",
       " 'Elevator',\n",
       " '\"Atico\"',\n",
       " 'Terrasse',\n",
       " 'Parking',\n",
       " 'Kitchen',\n",
       " 'House Style',\n",
       " 'Yard',\n",
       " 'Predicted Price',\n",
       " 'Unnamed: 12',\n",
       " 'R2 in the sample',\n",
       " 'Your equation']"
      ]
     },
     "execution_count": 464,
     "metadata": {},
     "output_type": "execute_result"
    }
   ],
   "source": [
    "col_name"
   ]
  },
  {
   "cell_type": "code",
   "execution_count": 466,
   "metadata": {},
   "outputs": [],
   "source": [
    "house_price_res = pd.read_csv('./data_problemset1/Housing_Prices_predict.csv')\n",
    "col_name = house_price_res.columns.tolist()\n",
    "col_name.insert(col_name.index(\"m^2\"), \"Ones\")\n",
    "col_name.insert(col_name.index(\"m^2\"), \"City Zone Code\")\n",
    "house_price_res = house_price_res.reindex(columns=col_name)\n",
    "house_price_res['Ones'] = house_price_test[\"Ones\"]\n",
    "house_price_res['City Zone Code'] = house_price_test[\"City Zone\"]\n",
    "house_price_res[\"Predicted Price\"] =  pd.Series(price_test)\n",
    "house_price_res['R2 in the sample'] = 0.81819\n",
    "house_price_res.to_excel(\"./data_problemset1/pre_res1.xlsx\")"
   ]
  },
  {
   "cell_type": "code",
   "execution_count": 480,
   "metadata": {},
   "outputs": [
    {
     "data": {
      "text/plain": [
       "Index(['Ones', 'City Zone', 'm^2', 'Rooms', 'Bathrooms', 'Elevator', '\"Atico\"',\n",
       "       'Terrasse', 'Parking', 'Kitchen', 'House Style', 'Yard',\n",
       "       'Predicted Price', 'Unnamed: 12', 'R2 in the sample', 'Your equation'],\n",
       "      dtype='object')"
      ]
     },
     "execution_count": 480,
     "metadata": {},
     "output_type": "execute_result"
    }
   ],
   "source": [
    "house_price_test.columns"
   ]
  },
  {
   "cell_type": "code",
   "execution_count": 491,
   "metadata": {},
   "outputs": [
    {
     "name": "stdout",
     "output_type": "stream",
     "text": [
      "-25493.936*Ones\n",
      "-8960.0597*City Zone Code\n",
      "+3556.6992*m^2\n",
      "-13197.5066*Rooms\n",
      "+29139.76*Bathrooms\n",
      "+6369.2571*Elevator\n",
      "+9062.4863*\"Atico\"\n",
      "+6072.2071*Terrasse\n",
      "+1200.4723*Kitchen\n",
      "-50114.1062*House Style\n",
      "+54690.8191*Yard\n"
     ]
    },
    {
     "data": {
      "text/plain": [
       "''"
      ]
     },
     "execution_count": 491,
     "metadata": {},
     "output_type": "execute_result"
    }
   ],
   "source": [
    "line0 = ''\n",
    "j = 0\n",
    "for i in x_idxs:\n",
    "    name = house_price_res.columns.tolist()[1:13][i]\n",
    "    beta_i = round(Betasf[j][0], 4)\n",
    "    if beta_i < 0:\n",
    "        plus = ''\n",
    "    else:\n",
    "        plus = '+'\n",
    "    linei = '{}{}*{}'.format(plus, beta_i, name )\n",
    "    print(linei)\n",
    "    j +=1\n",
    "line0"
   ]
  },
  {
   "cell_type": "code",
   "execution_count": null,
   "metadata": {},
   "outputs": [],
   "source": []
  }
 ],
 "metadata": {
  "kernelspec": {
   "display_name": "Python 3",
   "language": "python",
   "name": "python3"
  },
  "language_info": {
   "codemirror_mode": {
    "name": "ipython",
    "version": 3
   },
   "file_extension": ".py",
   "mimetype": "text/x-python",
   "name": "python",
   "nbconvert_exporter": "python",
   "pygments_lexer": "ipython3",
   "version": "3.7.6"
  }
 },
 "nbformat": 4,
 "nbformat_minor": 4
}
